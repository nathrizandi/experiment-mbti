{
  "nbformat": 4,
  "nbformat_minor": 0,
  "metadata": {
    "colab": {
      "provenance": [],
      "machine_shape": "hm",
      "gpuType": "T4"
    },
    "kernelspec": {
      "name": "python3",
      "display_name": "Python 3"
    },
    "language_info": {
      "name": "python"
    },
    "accelerator": "GPU"
  },
  "cells": [
    {
      "cell_type": "markdown",
      "source": [
        "**feature extraction✅ without augmentation**"
      ],
      "metadata": {
        "id": "ofXK4lzXry3e"
      }
    },
    {
      "cell_type": "markdown",
      "source": [
        "#Import Data - Library"
      ],
      "metadata": {
        "id": "bQn_TzpIsCH1"
      }
    },
    {
      "cell_type": "code",
      "source": [
        "from google.colab import drive\n",
        "drive.mount(\"/content/drive\")"
      ],
      "metadata": {
        "colab": {
          "base_uri": "https://localhost:8080/"
        },
        "id": "rCiBhOIusDty",
        "outputId": "2e99c844-6700-431a-a0c2-7db79b0a43d2"
      },
      "execution_count": null,
      "outputs": [
        {
          "output_type": "stream",
          "name": "stdout",
          "text": [
            "Mounted at /content/drive\n"
          ]
        }
      ]
    },
    {
      "cell_type": "code",
      "source": [
        "# List files in the directory to verify existence\n",
        "!ls /content/drive/MyDrive/TI14_Personal/mbti_1.csv"
      ],
      "metadata": {
        "colab": {
          "base_uri": "https://localhost:8080/"
        },
        "id": "O19c_-Y4scpW",
        "outputId": "3d58f59d-5126-4187-b884-9d5d5794d1cd"
      },
      "execution_count": null,
      "outputs": [
        {
          "output_type": "stream",
          "name": "stdout",
          "text": [
            "/content/drive/MyDrive/TI14_Personal/mbti_1.csv\n"
          ]
        }
      ]
    },
    {
      "cell_type": "code",
      "source": [
        "# List files in the directory to verify existence\n",
        "!ls /content/drive/MyDrive/TI14_Personal/preprocessed_mbti1.csv"
      ],
      "metadata": {
        "colab": {
          "base_uri": "https://localhost:8080/"
        },
        "id": "apmFl2eesNQ_",
        "outputId": "f124167f-737c-4c19-b01d-0bc161ac42f5"
      },
      "execution_count": null,
      "outputs": [
        {
          "output_type": "stream",
          "name": "stdout",
          "text": [
            "/content/drive/MyDrive/TI14_Personal/preprocessed_mbti1.csv\n"
          ]
        }
      ]
    },
    {
      "cell_type": "code",
      "source": [
        "import numpy as np\n",
        "import pandas as pd\n",
        "from sklearn.model_selection import train_test_split\n",
        "from sklearn.metrics import accuracy_score, f1_score, precision_score, recall_score\n",
        "from sklearn.ensemble import RandomForestClassifier\n",
        "import xgboost as xgb\n",
        "from sklearn.svm import SVC\n",
        "from lightgbm import LGBMClassifier\n",
        "from sklearn.feature_extraction.text import TfidfVectorizer\n",
        "from gensim.models import Word2Vec\n",
        "from nltk.tokenize import word_tokenize\n",
        "from nltk.corpus import stopwords, wordnet\n",
        "from nltk.stem import WordNetLemmatizer\n",
        "from nltk.util import ngrams\n",
        "from gensim.models import KeyedVectors\n",
        "from sklearn.model_selection import RandomizedSearchCV\n",
        "from scipy.stats import randint as sp_randint\n",
        "from scipy.stats import uniform\n",
        "from sklearn.preprocessing import StandardScaler\n",
        "\n",
        "import nltk\n",
        "import re\n",
        "import os\n",
        "import random\n",
        "from collections import Counter\n",
        "from google.colab import files\n",
        "from nltk import pos_tag, ne_chunk\n",
        "from nltk.util import ngrams\n",
        "\n",
        "# Download necessary NLTK data\n",
        "nltk.download('punkt')\n",
        "nltk.download('stopwords')\n",
        "nltk.download('wordnet')\n",
        "nltk.download('averaged_perceptron_tagger')\n",
        "nltk.download('maxent_ne_chunker')\n",
        "nltk.download('words')"
      ],
      "metadata": {
        "colab": {
          "base_uri": "https://localhost:8080/"
        },
        "id": "v6I7L3m3sdqt",
        "outputId": "14d82728-9ae4-4529-b32d-be0e5356555b"
      },
      "execution_count": null,
      "outputs": [
        {
          "output_type": "stream",
          "name": "stderr",
          "text": [
            "[nltk_data] Downloading package punkt to /root/nltk_data...\n",
            "[nltk_data]   Package punkt is already up-to-date!\n",
            "[nltk_data] Downloading package stopwords to /root/nltk_data...\n",
            "[nltk_data]   Package stopwords is already up-to-date!\n",
            "[nltk_data] Downloading package wordnet to /root/nltk_data...\n",
            "[nltk_data]   Package wordnet is already up-to-date!\n",
            "[nltk_data] Downloading package averaged_perceptron_tagger to\n",
            "[nltk_data]     /root/nltk_data...\n",
            "[nltk_data]   Package averaged_perceptron_tagger is already up-to-\n",
            "[nltk_data]       date!\n",
            "[nltk_data] Downloading package maxent_ne_chunker to\n",
            "[nltk_data]     /root/nltk_data...\n",
            "[nltk_data]   Package maxent_ne_chunker is already up-to-date!\n",
            "[nltk_data] Downloading package words to /root/nltk_data...\n",
            "[nltk_data]   Package words is already up-to-date!\n"
          ]
        },
        {
          "output_type": "execute_result",
          "data": {
            "text/plain": [
              "True"
            ]
          },
          "metadata": {},
          "execution_count": 25
        }
      ]
    },
    {
      "cell_type": "code",
      "source": [
        "df_ori = pd.read_csv('/content/drive/MyDrive/TI14_Personal/mbti_1.csv')\n",
        "#original dataset"
      ],
      "metadata": {
        "id": "I-M01CmMsgcM"
      },
      "execution_count": null,
      "outputs": []
    },
    {
      "cell_type": "code",
      "source": [
        "df_ori.head()"
      ],
      "metadata": {
        "colab": {
          "base_uri": "https://localhost:8080/",
          "height": 206
        },
        "id": "a61l0kces2p4",
        "outputId": "a6a19145-38d6-4773-a3db-72c9f16b1441"
      },
      "execution_count": null,
      "outputs": [
        {
          "output_type": "execute_result",
          "data": {
            "text/plain": [
              "   type                                              posts\n",
              "0  INFJ  'http://www.youtube.com/watch?v=qsXHcwe3krw|||...\n",
              "1  ENTP  'I'm finding the lack of me in these posts ver...\n",
              "2  INTP  'Good one  _____   https://www.youtube.com/wat...\n",
              "3  INTJ  'Dear INTP,   I enjoyed our conversation the o...\n",
              "4  ENTJ  'You're fired.|||That's another silly misconce..."
            ],
            "text/html": [
              "\n",
              "  <div id=\"df-f4ad64cd-d664-4dda-96ed-ff1ccfbef7fa\" class=\"colab-df-container\">\n",
              "    <div>\n",
              "<style scoped>\n",
              "    .dataframe tbody tr th:only-of-type {\n",
              "        vertical-align: middle;\n",
              "    }\n",
              "\n",
              "    .dataframe tbody tr th {\n",
              "        vertical-align: top;\n",
              "    }\n",
              "\n",
              "    .dataframe thead th {\n",
              "        text-align: right;\n",
              "    }\n",
              "</style>\n",
              "<table border=\"1\" class=\"dataframe\">\n",
              "  <thead>\n",
              "    <tr style=\"text-align: right;\">\n",
              "      <th></th>\n",
              "      <th>type</th>\n",
              "      <th>posts</th>\n",
              "    </tr>\n",
              "  </thead>\n",
              "  <tbody>\n",
              "    <tr>\n",
              "      <th>0</th>\n",
              "      <td>INFJ</td>\n",
              "      <td>'http://www.youtube.com/watch?v=qsXHcwe3krw|||...</td>\n",
              "    </tr>\n",
              "    <tr>\n",
              "      <th>1</th>\n",
              "      <td>ENTP</td>\n",
              "      <td>'I'm finding the lack of me in these posts ver...</td>\n",
              "    </tr>\n",
              "    <tr>\n",
              "      <th>2</th>\n",
              "      <td>INTP</td>\n",
              "      <td>'Good one  _____   https://www.youtube.com/wat...</td>\n",
              "    </tr>\n",
              "    <tr>\n",
              "      <th>3</th>\n",
              "      <td>INTJ</td>\n",
              "      <td>'Dear INTP,   I enjoyed our conversation the o...</td>\n",
              "    </tr>\n",
              "    <tr>\n",
              "      <th>4</th>\n",
              "      <td>ENTJ</td>\n",
              "      <td>'You're fired.|||That's another silly misconce...</td>\n",
              "    </tr>\n",
              "  </tbody>\n",
              "</table>\n",
              "</div>\n",
              "    <div class=\"colab-df-buttons\">\n",
              "\n",
              "  <div class=\"colab-df-container\">\n",
              "    <button class=\"colab-df-convert\" onclick=\"convertToInteractive('df-f4ad64cd-d664-4dda-96ed-ff1ccfbef7fa')\"\n",
              "            title=\"Convert this dataframe to an interactive table.\"\n",
              "            style=\"display:none;\">\n",
              "\n",
              "  <svg xmlns=\"http://www.w3.org/2000/svg\" height=\"24px\" viewBox=\"0 -960 960 960\">\n",
              "    <path d=\"M120-120v-720h720v720H120Zm60-500h600v-160H180v160Zm220 220h160v-160H400v160Zm0 220h160v-160H400v160ZM180-400h160v-160H180v160Zm440 0h160v-160H620v160ZM180-180h160v-160H180v160Zm440 0h160v-160H620v160Z\"/>\n",
              "  </svg>\n",
              "    </button>\n",
              "\n",
              "  <style>\n",
              "    .colab-df-container {\n",
              "      display:flex;\n",
              "      gap: 12px;\n",
              "    }\n",
              "\n",
              "    .colab-df-convert {\n",
              "      background-color: #E8F0FE;\n",
              "      border: none;\n",
              "      border-radius: 50%;\n",
              "      cursor: pointer;\n",
              "      display: none;\n",
              "      fill: #1967D2;\n",
              "      height: 32px;\n",
              "      padding: 0 0 0 0;\n",
              "      width: 32px;\n",
              "    }\n",
              "\n",
              "    .colab-df-convert:hover {\n",
              "      background-color: #E2EBFA;\n",
              "      box-shadow: 0px 1px 2px rgba(60, 64, 67, 0.3), 0px 1px 3px 1px rgba(60, 64, 67, 0.15);\n",
              "      fill: #174EA6;\n",
              "    }\n",
              "\n",
              "    .colab-df-buttons div {\n",
              "      margin-bottom: 4px;\n",
              "    }\n",
              "\n",
              "    [theme=dark] .colab-df-convert {\n",
              "      background-color: #3B4455;\n",
              "      fill: #D2E3FC;\n",
              "    }\n",
              "\n",
              "    [theme=dark] .colab-df-convert:hover {\n",
              "      background-color: #434B5C;\n",
              "      box-shadow: 0px 1px 3px 1px rgba(0, 0, 0, 0.15);\n",
              "      filter: drop-shadow(0px 1px 2px rgba(0, 0, 0, 0.3));\n",
              "      fill: #FFFFFF;\n",
              "    }\n",
              "  </style>\n",
              "\n",
              "    <script>\n",
              "      const buttonEl =\n",
              "        document.querySelector('#df-f4ad64cd-d664-4dda-96ed-ff1ccfbef7fa button.colab-df-convert');\n",
              "      buttonEl.style.display =\n",
              "        google.colab.kernel.accessAllowed ? 'block' : 'none';\n",
              "\n",
              "      async function convertToInteractive(key) {\n",
              "        const element = document.querySelector('#df-f4ad64cd-d664-4dda-96ed-ff1ccfbef7fa');\n",
              "        const dataTable =\n",
              "          await google.colab.kernel.invokeFunction('convertToInteractive',\n",
              "                                                    [key], {});\n",
              "        if (!dataTable) return;\n",
              "\n",
              "        const docLinkHtml = 'Like what you see? Visit the ' +\n",
              "          '<a target=\"_blank\" href=https://colab.research.google.com/notebooks/data_table.ipynb>data table notebook</a>'\n",
              "          + ' to learn more about interactive tables.';\n",
              "        element.innerHTML = '';\n",
              "        dataTable['output_type'] = 'display_data';\n",
              "        await google.colab.output.renderOutput(dataTable, element);\n",
              "        const docLink = document.createElement('div');\n",
              "        docLink.innerHTML = docLinkHtml;\n",
              "        element.appendChild(docLink);\n",
              "      }\n",
              "    </script>\n",
              "  </div>\n",
              "\n",
              "\n",
              "<div id=\"df-da04f9e1-3967-48d1-bf8e-e85df0515008\">\n",
              "  <button class=\"colab-df-quickchart\" onclick=\"quickchart('df-da04f9e1-3967-48d1-bf8e-e85df0515008')\"\n",
              "            title=\"Suggest charts\"\n",
              "            style=\"display:none;\">\n",
              "\n",
              "<svg xmlns=\"http://www.w3.org/2000/svg\" height=\"24px\"viewBox=\"0 0 24 24\"\n",
              "     width=\"24px\">\n",
              "    <g>\n",
              "        <path d=\"M19 3H5c-1.1 0-2 .9-2 2v14c0 1.1.9 2 2 2h14c1.1 0 2-.9 2-2V5c0-1.1-.9-2-2-2zM9 17H7v-7h2v7zm4 0h-2V7h2v10zm4 0h-2v-4h2v4z\"/>\n",
              "    </g>\n",
              "</svg>\n",
              "  </button>\n",
              "\n",
              "<style>\n",
              "  .colab-df-quickchart {\n",
              "      --bg-color: #E8F0FE;\n",
              "      --fill-color: #1967D2;\n",
              "      --hover-bg-color: #E2EBFA;\n",
              "      --hover-fill-color: #174EA6;\n",
              "      --disabled-fill-color: #AAA;\n",
              "      --disabled-bg-color: #DDD;\n",
              "  }\n",
              "\n",
              "  [theme=dark] .colab-df-quickchart {\n",
              "      --bg-color: #3B4455;\n",
              "      --fill-color: #D2E3FC;\n",
              "      --hover-bg-color: #434B5C;\n",
              "      --hover-fill-color: #FFFFFF;\n",
              "      --disabled-bg-color: #3B4455;\n",
              "      --disabled-fill-color: #666;\n",
              "  }\n",
              "\n",
              "  .colab-df-quickchart {\n",
              "    background-color: var(--bg-color);\n",
              "    border: none;\n",
              "    border-radius: 50%;\n",
              "    cursor: pointer;\n",
              "    display: none;\n",
              "    fill: var(--fill-color);\n",
              "    height: 32px;\n",
              "    padding: 0;\n",
              "    width: 32px;\n",
              "  }\n",
              "\n",
              "  .colab-df-quickchart:hover {\n",
              "    background-color: var(--hover-bg-color);\n",
              "    box-shadow: 0 1px 2px rgba(60, 64, 67, 0.3), 0 1px 3px 1px rgba(60, 64, 67, 0.15);\n",
              "    fill: var(--button-hover-fill-color);\n",
              "  }\n",
              "\n",
              "  .colab-df-quickchart-complete:disabled,\n",
              "  .colab-df-quickchart-complete:disabled:hover {\n",
              "    background-color: var(--disabled-bg-color);\n",
              "    fill: var(--disabled-fill-color);\n",
              "    box-shadow: none;\n",
              "  }\n",
              "\n",
              "  .colab-df-spinner {\n",
              "    border: 2px solid var(--fill-color);\n",
              "    border-color: transparent;\n",
              "    border-bottom-color: var(--fill-color);\n",
              "    animation:\n",
              "      spin 1s steps(1) infinite;\n",
              "  }\n",
              "\n",
              "  @keyframes spin {\n",
              "    0% {\n",
              "      border-color: transparent;\n",
              "      border-bottom-color: var(--fill-color);\n",
              "      border-left-color: var(--fill-color);\n",
              "    }\n",
              "    20% {\n",
              "      border-color: transparent;\n",
              "      border-left-color: var(--fill-color);\n",
              "      border-top-color: var(--fill-color);\n",
              "    }\n",
              "    30% {\n",
              "      border-color: transparent;\n",
              "      border-left-color: var(--fill-color);\n",
              "      border-top-color: var(--fill-color);\n",
              "      border-right-color: var(--fill-color);\n",
              "    }\n",
              "    40% {\n",
              "      border-color: transparent;\n",
              "      border-right-color: var(--fill-color);\n",
              "      border-top-color: var(--fill-color);\n",
              "    }\n",
              "    60% {\n",
              "      border-color: transparent;\n",
              "      border-right-color: var(--fill-color);\n",
              "    }\n",
              "    80% {\n",
              "      border-color: transparent;\n",
              "      border-right-color: var(--fill-color);\n",
              "      border-bottom-color: var(--fill-color);\n",
              "    }\n",
              "    90% {\n",
              "      border-color: transparent;\n",
              "      border-bottom-color: var(--fill-color);\n",
              "    }\n",
              "  }\n",
              "</style>\n",
              "\n",
              "  <script>\n",
              "    async function quickchart(key) {\n",
              "      const quickchartButtonEl =\n",
              "        document.querySelector('#' + key + ' button');\n",
              "      quickchartButtonEl.disabled = true;  // To prevent multiple clicks.\n",
              "      quickchartButtonEl.classList.add('colab-df-spinner');\n",
              "      try {\n",
              "        const charts = await google.colab.kernel.invokeFunction(\n",
              "            'suggestCharts', [key], {});\n",
              "      } catch (error) {\n",
              "        console.error('Error during call to suggestCharts:', error);\n",
              "      }\n",
              "      quickchartButtonEl.classList.remove('colab-df-spinner');\n",
              "      quickchartButtonEl.classList.add('colab-df-quickchart-complete');\n",
              "    }\n",
              "    (() => {\n",
              "      let quickchartButtonEl =\n",
              "        document.querySelector('#df-da04f9e1-3967-48d1-bf8e-e85df0515008 button');\n",
              "      quickchartButtonEl.style.display =\n",
              "        google.colab.kernel.accessAllowed ? 'block' : 'none';\n",
              "    })();\n",
              "  </script>\n",
              "</div>\n",
              "\n",
              "    </div>\n",
              "  </div>\n"
            ],
            "application/vnd.google.colaboratory.intrinsic+json": {
              "type": "dataframe",
              "variable_name": "df_ori",
              "summary": "{\n  \"name\": \"df_ori\",\n  \"rows\": 8675,\n  \"fields\": [\n    {\n      \"column\": \"type\",\n      \"properties\": {\n        \"dtype\": \"category\",\n        \"num_unique_values\": 16,\n        \"samples\": [\n          \"INFJ\",\n          \"ENTP\",\n          \"ENFJ\"\n        ],\n        \"semantic_type\": \"\",\n        \"description\": \"\"\n      }\n    },\n    {\n      \"column\": \"posts\",\n      \"properties\": {\n        \"dtype\": \"string\",\n        \"num_unique_values\": 8675,\n        \"samples\": [\n          \"'This. When I lie it's to avoid an unreasonable response for something I did that was completely justifiable to me but if I was to try to justify to someone else they'd be too hung up on what I did. I...|||Your IQ (SD15): 128|||I typically have very difficult times maintaining friends I've come to realize. I've had people I talk to for years and I still don't want to talk to them... I DID, but then I just got bored of them,...|||An INTJ friend of mine told me she really hates eating because it's so repetitive. As an INTP I don't really feel bothered, I don't really register eating I just do it while I'm thinking about...|||Similar Minds Advanced Test|||INTP 9 sx/so I have a lot of friends but I only have one I speak about how I actually feel with and only 1 other that I talk about what I am actually thinking about - with regards to...|||Getting close to someone and end up wanting to be infinitely close to them and end up merging every damn time.|||Interesting topic, I know two ENFP's, 1 is strange, as an INTP I view some of the stuff she does as 'coming onto me'?  - sort of. She gets really close and is very open to me, just what ENFP's do,...|||As far as I'm aware this is normal in all people, it's not so much your pessimistic self but just that humans are social creatures and you will feel better after socializing for that reason. Being...|||Vajrayaksa  How dare you use Lelouch as an INTP! He is an INTJ I say!|||I normally think about doing this stuff but don't actually do it.|||You'll probably find that commenting on their nihilistic thoughts logically would make them more open. Dismissing ideas will merely make them agree with that idea more as they'll feel a need to...|||Don't worry, calling me thinker is the same.|||INTJ - Winter - Coldest ENTJ - Summer - Actually doing things ENTP - Spring - Bringing out the fun in people INTP - Autumn - No one ever notices this season|||I've known a couple ENTP's, one ENTJ and an INTJ and it kind of went ENTP>ENTJ>ENTP>INTJ I love being able to constantly talk with ENTP's but also they need to know when to stop talking, if an ENTP...|||If you mean actually 1v1ing yourself I also have done this, maybe I'm wrong but I find it pretty easy to think about the most logical move the player I am playing should make with the information...|||Gender: female Age: 19-29 Intelligence: gifted Idea adoption: early-adopter MBTI personality profile: ESFP Closest alternative we found: ESFJ  I think I killed it when it told me to write...|||I'm fine with them, I'm more on shortage of people I'd ever want to do them with but that's on the grounds that any socialising that could be done could just as well be done over skype without the...|||I used to use pencils then I was told that my teachers wanted me to use pens only - so I used pens only. I haven't used a pencil - excluding my games of naughts and crosses earlier - in a couple...|||I'd love to own either a calm house out somewhere distant with a porch and a log cabin aesthetic - fuck it, I want a log cabin. OR I'd actually really like the idea of being in one of those smokey...|||Yeah I enjoy listening to lyrics but it doesn't make much of a difference if they're present or not, if they are there they're just another part of the instrumental I don't necessarily listen to...|||More often then not someone is only going to be fully entering my world if they invite me into theirs first and it's similar or we're friends on the internet - because then there are few...|||What did you get me today?  My head = Shit, shit, shit what did I miss, is it your birthday? Was I supposed to get you something? Are we that good friends that I should be buying you stuff? I...|||I frequently say it as an off hand thing, someone does something really awesome and I say fuck yeah I love you man or something like that. If I was to say it in a genuine way then it'd feel really...|||So something strange has been happening recently, my interest was drawn to naughts and crosses and how I could make it more enjoyable to play. I started by increasing the grid size and tried...|||You could tell them your thoughts. You could not tell them your thoughts and continue to brew over it. I think that there's no reason to be ashamed or annoyed about anything and if you don't...|||loudly, whilst he drew his|||and the baby platypi quivered|||particularly in the higher regions|||Starting with a lingering feeling|||What's the point of stopping? Why does it matter what they're called? Guilty pleasures are pleasures for a reason, does it matter that much?|||their own god dam story|||post multiple times to do|||It's impressive how people would|||Maximum of five words per line, feel free to say other stuff in the most but make sure it's clear which is the five words.     Once upon a time in|||someone who appreciates c.c. Fuck yeah!|||Yeezus can't we come to a reasonable conclusion without you picking a fight? It's not being open minded.|||More often then not I judge them purely by how they judge me, I have a dark sense of humor that I'm not exactly secretive about, I get along with most people on the grounds that I'm just friendly to...|||I chose my avatar as it's an awesome art work of Kaneki from Tokyo Ghoul and by god I loved the manga, love tragedies. Name is a slightly altered version of my name, George - Georgius. Liked the Halo...|||Violence in this situation would probably be a faster way to get things done for both parties involved and especially on the receiving end, trying to talk sense into someone who just said something...|||But surely the point that everyone would be worse off initially isn't relevant? Rebuilding a system would obviously have it's issues here and there.  I'm not crying revolution and I'm not being...|||We'd call it Diagon Alley!|||I'm with you, I make a pretty big point of not being a person for people to expect feelings from, I want to be that person but I just feel wrong, someones crying their eyes out and here I am lying...|||Good call but that's just how I read it ^^'|||What about a four dimensional plane.|||Why airplane why not aeroplane?|||Hit them for having the expectation that you should live up to their expectations which is infuriating in and of itself probably.|||It's just because hitting a women is politically incorrect and some women will use that to their advantage.|||What he's saying is that they should assume that if they say something worthy of being hit for, that they should be grateful when they're not hit for it, not expect not to be hit just on the basis...|||Is it particularly common amongst INTP's and other types to just acknowledge another sides point of view even though socially you shouldn't. What I mean by this is I can't have conversation with...'\",\n          \"'I said zero flexibility and little time for dating. Going around sifting through dates to find one that clicks isn't going to be as viable.  That has nothing to do with maintaining a relationship I...|||How you've come to the conclusion I have nothing to offer  merely because I am busy is beyond me.       No not really. Again, more made up stuff.|||okay, this isn't cool.  you're specifically looking to get into a relationship because you're about to enter a life phase where you will not have any resources to give to a relationship?   that is...|||I do take it slow (that's why I'm still single), but I'm not interested in making friends. I  have friends. Enough for my liking. I'm interested in going on dates with the intent of entering a...|||Absolutely not for me. I find the idea repugnant, actually.|||People could have been polite. Maybe average is a more conservative bet. And I'm not claiming I'm a social butterfly. I'm just a normal guy who is introverted but not a social doofus.  I don't...|||I'm probably giving up the online thing here when my next subscription runs out. After that I really don't know where to look. Bars are a definite no. I don't understand where people meet their...|||I've tried both ways, actually. The last few women I have gone out with have gotten really weird and/or ignored my backhanded compliments. I don't know what to do anymore. Seems I get screwed either...|||I'm actually pretty healthy.     Sorry you feel that way. Not sure which ones you met, but assholes exist everywhere. The number isn't anywhere near 99% though.|||If anything I err on the side of being indifferent. Definitely not overeager.|||Yeah my close friends don't live near me anymore.  The issue is that I have been meeting people, a good amount, and nothing works. I want to know why it is that deformed, infirm, mentally unstable,...|||My friends are in worse positions than I am. Asking them isn't going to help.   As far as feedback, not really because that seems like an extraordinarily awkward thing to ask someone you barely...|||So, I'm a 26 year old male who has been striking out time and time again when it comes to relationships. I've been in one relationship my entire life that lasted like 1.5 years and ended when I was...|||I don't think this sort of dating method is very reasonable, and at best, it is counterproductive. Being friends first just throws a wrench in what is normally a smooth dating process. When you fear...|||Never was a kiss.|||I appreciate the feedback. I think I'm just going to tell her we shouldn't hang out unless she can dedicate a decent amount of time to it. What is happening right now is dragging things out and...|||I don't know. After thinking more, I'm on the verge of giving up. It has nothing to do with seeing her infrequently, or not making it official or what have you. It's that she keeps things...|||I don't know. I'm not a model or anything but I'm decent looking. She's drop dead gorgeous and nice and smart. Guys are always after her it seems. But I'm also smarter and have better career...|||I like your answer, but maybe I'm just being optimistic. It is basically, what I've been doing. I can't shake the feeling that she wouldn't be giving me any of her time if she weren't interested and...|||How am I supposed to know if an INFJ just wants to be friends? Things have been very weird with an INFJ I've been seeing. I've been very upfront about my intentions and she essentially told me she...|||Interesting. I find it unusual INFJs are known for taking forever to open up and trust people yet all the responses so far have indicated kissing in 3 or fewer dates....|||My INFJ friend has been with an INTJ, and i don't want to bust your confidence but even though she liked him at first, she soon found out that he was putting her down and felt caged. I can see that...|||Enlighten us infjs. Also indicate your gender and if you initiated.|||Well there was more than that. She also said she was basically trying to figure out if I'm trustworthy and decent.|||Those two things seem at odds. How can you be simultaneously not saying things that need to be said but also being proactively aggressive?|||Pretty much yeah. Women just do not enjoy my company on any level. I'm in the same situation. Never had any female friends, dated one person in my life and it lasted a little less than two years. The...|||I don't think that is going to help me dig myself out of the very clingy seeming hole I dug myself. I basically asked her if she knew I was romantically interested and she responded of course lol...|||I should have just let things proceed at a natural pace. Pretty pissed at myself. About zero chance she speaks to me again.|||I read through most of that thread. From what I can tell I never did anything egregious. Good chance she lost interest after my bluntness though lol.|||I broke that off shortly after my post. I felt like a slime ball. I only did it because people were telling me she's a lost cause and I should see other people. BTW I have a very well developed...|||Update on this. Told her I liked her and got no reassurance she liked me or even that she wasn't interested. Those who said she was ambivalent were right. I'm pretty much calling it off at this point...|||Yeah so I told her and didn't get an affirmation she liked me nor that she didn't. She basically said she had known for a while I like her. Pretty much what I expected. Probably going to call it...|||Is the crystal ball reference supposed to mean your guess is as good as mine or what? Edit: guess not :p|||So I've gone on six or so dates with an INFJ over a 3 month period (she's pretty busy, and me too) and recently I feel like progress has been a little glacial. For a bit I thought she was warming up...|||She hates texting.  And yeah, she told me how picky she was about people recently and that normally she wouldn't give anyone the time of day.|||You would literally have to have an autism spectrum disorder. I would know.  Not to mention you don't tell someone who is just friends how much you like them. That would be more than bizarre.|||It's kind of hard to get to the point of officially dating when you have no idea what is going on in her head. For all I know an attempt to kiss her would result in abject horror and assault...|||Spoke to her last night, she essentially said she likes me a lot and would normally never make any time for people unless she was obligated to. But she also indirectly used the word friend but it...|||So I met an INFJ female a while back, and we've been out like five or so times on a date. They go well, we get along, everything seems nice. I find her very attractive and we have quite a bit in...|||'  I don't know, I kind of have a rule that I don't compliment a female on her appearance until she trusts me. I did compliment her personality a few times.  She is extremely cautious from what I...|||Well, now I have a new question. Went on a second date a few days ago and it went well and she said she wanted to meet up again. The problem is, there hasn't been an ounce of flirting or touching...|||She started initiating with me and asked if I'm free soon. -_-    If there is anything to be learned it is don't play the analysis game. You will lose.|||Expectations of....?|||I don't know. I can't really fault a strong introvert for being wary about someone she doesn't really know. Number 2 is cruel, but it is how modern dating works.    Pretty sure this isn't the...|||I don't know. I can't really fault a strong introvert for being wary about someone she doesn't really know. Number 2 is cruel, but it is how modern dating works.    Pretty sure this isn't the...|||Thanks, option 1 seems most likely. It seems whenever I finally get her to open up there is like a cascade of good conversation that finally ensues, but it is like pulling teeth initially. Then I...|||I'm socially retarded and would know that if a random stranger asked for my contact info then asked me out for drinks or lunch then the person probably isn't interested in just being friends.|||So I shouldn't be deterred by the fact she doesn't really ever reach out to me? I don't enjoy appearing like someone who can't take a hint or who puts someone else in an awkward situation. I worry...|||No this seems to fit her pretty well.|||Thanks for the advice everyone. I appreciate your taking the time to respond.'\",\n          \"'This has to be written with bias or something, I'm not sure how you could even say that truthfully. For some reason you put subjectivity for both God and man? It says nothing.    That makes no...|||??? How?  The main priority of the church is written throughout it's texts for the past nearly 2000 years and reverberated throughout the church's dialogues both before and after the incident about...|||That's an annoying phrasing, as it's just obtuse and confusing to newcomers. I don't blame you for your response there.    Why must the revealed knowledge not speak truth but contain a bias...|||There are no priestly desk jobs. The closest thing you have to being a priest that gets you away from people is being a monk and that in itself is very different.  I am telling you they did it out...|||No, you really won't. You can't just go to an INTP and assume their intelligence level. That would end in failure. Don't be afraid to ask big questions when musing with the INTP and just try to...|||Heresy is, like, the core reason most all Christian in-fighting occurs. Everything else is minor disputes about theological opinions.|||That's exceedingly subjective. See what they're interested in, strike up a conversation about it. Definitely ask them their thoughts.|||To dismiss my concept of it is to dismiss all history on the topic, dismiss what the apostles taught, and literally all sects of Christianity. But fine, whatever.|||Do cool shit, discuss ideas, have patience, don't try to judge personally too quickly or control them. ALSO, make the first move to show you're interested in talking with them.|||I used to feel about the same until I read the book Self-Made Man, where a lesbian 'butch' woman dressed like a man and tried to live as one. She noticed herself being considered a feminine man quite...|||I'm not sure what the hell is going on in this thread but I would like to say I know no ENTJs personally, I don't think. It'd be neat, though.|||All churches are forms of political institutions. Catholic and Orthodox ones have the benefit of being centralized. All sects have declared doctrine in one way or another.  You're speaking against...|||And here is the most boring post in the whole thread.|||What part? If it's the idea of a teaching authority, you have a problem with all church until the 13th century. If it's the idea of a group being guided by the Holy Spirit in their decisions on...|||For Catholics, the church has a dual meaning. The whole of the believers (the Body of Christ) and the political institution. For Catholicism, their teachings of Christ are said to be protected by...|||Priests were relocated to other parishes so they may quiet down the criticism of the time and handle thing themselves. Again, poor decision but that was their decision.  The church's first priority...|||Well sure then. Yes, the church did protect child offenders. The church's reasoning was the image of the church itself and the their leadership's own ignorance of the size of the problem. The church...|||Edit: Based double post|||No, it really isn't. The Bible itself is the canon collection of texts. The Bible was established once the theological and historical work was done to establish the canon and it was not modified...|||Yes, nevermind it because the two claims do not contradict each other at all. I could work through how there is no contradiction if you're struggling.    I wouldn't say all, no. That's a...|||? There's no way to tell? But many of them depend on logic and/or history that contradicts or ruins their claims? Granted there are a few cases of we're yet to be able to know but many of it can...|||The problem of induction is a grand way of humbling yourself about scientific findings when you're younger. It brings into question if what we know is what we could call true.|||Rubix cubes.|||Pantheism makes no sense. I'd advise otherwise. Atheism and Abrahamic Theism are the only two rational choices.|||You, motherfucker.|||What is the meaning of everything? The universe exists. We are to learn to love in it.|||Disappointed 24 year old reporting in.  Good luck, OP.|||This is exceedingly naive. The early church, before scripture, applied their teaching to better society. After scripture, it was held in high esteem as a basis to properly better society. Most work...|||From the Catholic Catechism (list of official teaching) here is how we are to read the Bible:  III. THE HOLY SPIRIT, INTERPRETER OF SCRIPTURE   109 In Sacred Scripture, God speaks to man in a...|||I never liked people pointing to the Scandinavian model for the success of their economic system and not their incredible oil and natural resource supply compared to their small populations.|||While shit just got stupid for a moment. Lets try to get back on track.|||You're pretty smart, you know that?  Look at this fucker, she thinks I'm smart. Pfft.|||Exceedingly poor.|||I've just been told I'm bright, but I'm sure most everyone else says the same to the kids.|||And what of you?|||The most efficient way to remove self-doubt is to stop doubting yourself so much. Faith and trust, nigga.|||You suspect wrongly. I like the chatter and I'm being friendly with you. I seriously do hope you have a good day too.|||Indeed you do. Feel free to ask/argue/chat/or bullshit with me if you want. Have a good one, man.|||I'd say that's a stretch to say. Catholics believe the bible was inspired by God but written by men. Orthodox do too. As they assembled the biblical canon I'd have to say they have the greatest say...|||Edit: Welp.|||I see the arguments for inconsistencies. Sometimes they aren't actually inconsistencies. Sometimes they are. I find the simplest example of a true one being the rabbit that is apparently chewing...|||Sorry to take so long to get back to you, my internet has been screwing up horribly.  As for the answer, there was a considerable amount of things that got me off the atheist train but if I were to...|||The believing portion was a long and arduous process for me. I researched culture as a hobby and eventually I rolled around to religion. It was an interesting topic for me and I eventually began to...|||To your first statement... just... what. Where did that even come from? Of course they can know love, though with God they can know it fully, I'd argue.  As for Hell, it's taken a variety of...|||I'm very mixed on him. His criticism of Christianity (and envy, now that I've seen the video) is, while popular, piss poor and Max Scheler did a wonderful job making an argument otherwise on his...|||People believing in something as incontrovertibly true is what gets people into a murderous rage? Why just the incontrovertibly true? Why not the empirically true? Why not just majority opinion? To...|||Sure thing. Sounds sorta similar to the Epicurean Paradox.  Suffering/free will exists to strengthen the good. If you create a people so they may know love they cannot sincerely know love if they...|||Yo. Christian INTP here.  Anything you want?|||It's not we can make healthy children! it's we only let the healthy babies live! which is the issue. It's a moral issue about the innate value of life.|||249210'\"\n        ],\n        \"semantic_type\": \"\",\n        \"description\": \"\"\n      }\n    }\n  ]\n}"
            }
          },
          "metadata": {},
          "execution_count": 13
        }
      ]
    },
    {
      "cell_type": "code",
      "source": [
        "df = pd.read_csv('/content/drive/MyDrive/TI14_Personal/preprocessed_mbti1.csv')\n",
        "#preprocessed mbti"
      ],
      "metadata": {
        "id": "DeoKgDpXsitM"
      },
      "execution_count": null,
      "outputs": []
    },
    {
      "cell_type": "code",
      "source": [
        "df.head()"
      ],
      "metadata": {
        "colab": {
          "base_uri": "https://localhost:8080/",
          "height": 486
        },
        "id": "iAW45CpEs1Ch",
        "outputId": "db025f3c-fa8d-42cd-d65b-dff52b04c3e7"
      },
      "execution_count": null,
      "outputs": [
        {
          "output_type": "execute_result",
          "data": {
            "text/plain": [
              "   type                                              posts  \\\n",
              "0  INFJ  'http://www.youtube.com/watch?v=qsXHcwe3krw|||...   \n",
              "1  ENTP  'I'm finding the lack of me in these posts ver...   \n",
              "2  INTP  'Good one  _____   https://www.youtube.com/wat...   \n",
              "3  INTJ  'Dear INTP,   I enjoyed our conversation the o...   \n",
              "4  ENTJ  'You're fired.|||That's another silly misconce...   \n",
              "\n",
              "                                       posts_cleaned I/E N/S F/T J/P  \\\n",
              "0  moment sportscenter top ten play prank life ch...   I   N   F   J   \n",
              "1  finding lack post alarming sex boring position...   E   N   T   P   \n",
              "2  good one course say know blessing curse absolu...   I   N   T   P   \n",
              "3  dear enjoyed conversation day esoteric gabbing...   I   N   T   J   \n",
              "4  fired another silly misconception approaching ...   E   N   T   J   \n",
              "\n",
              "                                              tokens  \n",
              "0  ['moment', 'sportscenter', 'top', 'ten', 'play...  \n",
              "1  ['finding', 'lack', 'post', 'alarming', 'sex',...  \n",
              "2  ['good', 'one', 'course', 'say', 'know', 'bles...  \n",
              "3  ['dear', 'enjoyed', 'conversation', 'day', 'es...  \n",
              "4  ['fired', 'another', 'silly', 'misconception',...  "
            ],
            "text/html": [
              "\n",
              "  <div id=\"df-7fb22318-ac85-4660-a53a-92f9f993c69c\" class=\"colab-df-container\">\n",
              "    <div>\n",
              "<style scoped>\n",
              "    .dataframe tbody tr th:only-of-type {\n",
              "        vertical-align: middle;\n",
              "    }\n",
              "\n",
              "    .dataframe tbody tr th {\n",
              "        vertical-align: top;\n",
              "    }\n",
              "\n",
              "    .dataframe thead th {\n",
              "        text-align: right;\n",
              "    }\n",
              "</style>\n",
              "<table border=\"1\" class=\"dataframe\">\n",
              "  <thead>\n",
              "    <tr style=\"text-align: right;\">\n",
              "      <th></th>\n",
              "      <th>type</th>\n",
              "      <th>posts</th>\n",
              "      <th>posts_cleaned</th>\n",
              "      <th>I/E</th>\n",
              "      <th>N/S</th>\n",
              "      <th>F/T</th>\n",
              "      <th>J/P</th>\n",
              "      <th>tokens</th>\n",
              "    </tr>\n",
              "  </thead>\n",
              "  <tbody>\n",
              "    <tr>\n",
              "      <th>0</th>\n",
              "      <td>INFJ</td>\n",
              "      <td>'http://www.youtube.com/watch?v=qsXHcwe3krw|||...</td>\n",
              "      <td>moment sportscenter top ten play prank life ch...</td>\n",
              "      <td>I</td>\n",
              "      <td>N</td>\n",
              "      <td>F</td>\n",
              "      <td>J</td>\n",
              "      <td>['moment', 'sportscenter', 'top', 'ten', 'play...</td>\n",
              "    </tr>\n",
              "    <tr>\n",
              "      <th>1</th>\n",
              "      <td>ENTP</td>\n",
              "      <td>'I'm finding the lack of me in these posts ver...</td>\n",
              "      <td>finding lack post alarming sex boring position...</td>\n",
              "      <td>E</td>\n",
              "      <td>N</td>\n",
              "      <td>T</td>\n",
              "      <td>P</td>\n",
              "      <td>['finding', 'lack', 'post', 'alarming', 'sex',...</td>\n",
              "    </tr>\n",
              "    <tr>\n",
              "      <th>2</th>\n",
              "      <td>INTP</td>\n",
              "      <td>'Good one  _____   https://www.youtube.com/wat...</td>\n",
              "      <td>good one course say know blessing curse absolu...</td>\n",
              "      <td>I</td>\n",
              "      <td>N</td>\n",
              "      <td>T</td>\n",
              "      <td>P</td>\n",
              "      <td>['good', 'one', 'course', 'say', 'know', 'bles...</td>\n",
              "    </tr>\n",
              "    <tr>\n",
              "      <th>3</th>\n",
              "      <td>INTJ</td>\n",
              "      <td>'Dear INTP,   I enjoyed our conversation the o...</td>\n",
              "      <td>dear enjoyed conversation day esoteric gabbing...</td>\n",
              "      <td>I</td>\n",
              "      <td>N</td>\n",
              "      <td>T</td>\n",
              "      <td>J</td>\n",
              "      <td>['dear', 'enjoyed', 'conversation', 'day', 'es...</td>\n",
              "    </tr>\n",
              "    <tr>\n",
              "      <th>4</th>\n",
              "      <td>ENTJ</td>\n",
              "      <td>'You're fired.|||That's another silly misconce...</td>\n",
              "      <td>fired another silly misconception approaching ...</td>\n",
              "      <td>E</td>\n",
              "      <td>N</td>\n",
              "      <td>T</td>\n",
              "      <td>J</td>\n",
              "      <td>['fired', 'another', 'silly', 'misconception',...</td>\n",
              "    </tr>\n",
              "  </tbody>\n",
              "</table>\n",
              "</div>\n",
              "    <div class=\"colab-df-buttons\">\n",
              "\n",
              "  <div class=\"colab-df-container\">\n",
              "    <button class=\"colab-df-convert\" onclick=\"convertToInteractive('df-7fb22318-ac85-4660-a53a-92f9f993c69c')\"\n",
              "            title=\"Convert this dataframe to an interactive table.\"\n",
              "            style=\"display:none;\">\n",
              "\n",
              "  <svg xmlns=\"http://www.w3.org/2000/svg\" height=\"24px\" viewBox=\"0 -960 960 960\">\n",
              "    <path d=\"M120-120v-720h720v720H120Zm60-500h600v-160H180v160Zm220 220h160v-160H400v160Zm0 220h160v-160H400v160ZM180-400h160v-160H180v160Zm440 0h160v-160H620v160ZM180-180h160v-160H180v160Zm440 0h160v-160H620v160Z\"/>\n",
              "  </svg>\n",
              "    </button>\n",
              "\n",
              "  <style>\n",
              "    .colab-df-container {\n",
              "      display:flex;\n",
              "      gap: 12px;\n",
              "    }\n",
              "\n",
              "    .colab-df-convert {\n",
              "      background-color: #E8F0FE;\n",
              "      border: none;\n",
              "      border-radius: 50%;\n",
              "      cursor: pointer;\n",
              "      display: none;\n",
              "      fill: #1967D2;\n",
              "      height: 32px;\n",
              "      padding: 0 0 0 0;\n",
              "      width: 32px;\n",
              "    }\n",
              "\n",
              "    .colab-df-convert:hover {\n",
              "      background-color: #E2EBFA;\n",
              "      box-shadow: 0px 1px 2px rgba(60, 64, 67, 0.3), 0px 1px 3px 1px rgba(60, 64, 67, 0.15);\n",
              "      fill: #174EA6;\n",
              "    }\n",
              "\n",
              "    .colab-df-buttons div {\n",
              "      margin-bottom: 4px;\n",
              "    }\n",
              "\n",
              "    [theme=dark] .colab-df-convert {\n",
              "      background-color: #3B4455;\n",
              "      fill: #D2E3FC;\n",
              "    }\n",
              "\n",
              "    [theme=dark] .colab-df-convert:hover {\n",
              "      background-color: #434B5C;\n",
              "      box-shadow: 0px 1px 3px 1px rgba(0, 0, 0, 0.15);\n",
              "      filter: drop-shadow(0px 1px 2px rgba(0, 0, 0, 0.3));\n",
              "      fill: #FFFFFF;\n",
              "    }\n",
              "  </style>\n",
              "\n",
              "    <script>\n",
              "      const buttonEl =\n",
              "        document.querySelector('#df-7fb22318-ac85-4660-a53a-92f9f993c69c button.colab-df-convert');\n",
              "      buttonEl.style.display =\n",
              "        google.colab.kernel.accessAllowed ? 'block' : 'none';\n",
              "\n",
              "      async function convertToInteractive(key) {\n",
              "        const element = document.querySelector('#df-7fb22318-ac85-4660-a53a-92f9f993c69c');\n",
              "        const dataTable =\n",
              "          await google.colab.kernel.invokeFunction('convertToInteractive',\n",
              "                                                    [key], {});\n",
              "        if (!dataTable) return;\n",
              "\n",
              "        const docLinkHtml = 'Like what you see? Visit the ' +\n",
              "          '<a target=\"_blank\" href=https://colab.research.google.com/notebooks/data_table.ipynb>data table notebook</a>'\n",
              "          + ' to learn more about interactive tables.';\n",
              "        element.innerHTML = '';\n",
              "        dataTable['output_type'] = 'display_data';\n",
              "        await google.colab.output.renderOutput(dataTable, element);\n",
              "        const docLink = document.createElement('div');\n",
              "        docLink.innerHTML = docLinkHtml;\n",
              "        element.appendChild(docLink);\n",
              "      }\n",
              "    </script>\n",
              "  </div>\n",
              "\n",
              "\n",
              "<div id=\"df-0362f67e-4a2c-4506-9cde-39382f162e52\">\n",
              "  <button class=\"colab-df-quickchart\" onclick=\"quickchart('df-0362f67e-4a2c-4506-9cde-39382f162e52')\"\n",
              "            title=\"Suggest charts\"\n",
              "            style=\"display:none;\">\n",
              "\n",
              "<svg xmlns=\"http://www.w3.org/2000/svg\" height=\"24px\"viewBox=\"0 0 24 24\"\n",
              "     width=\"24px\">\n",
              "    <g>\n",
              "        <path d=\"M19 3H5c-1.1 0-2 .9-2 2v14c0 1.1.9 2 2 2h14c1.1 0 2-.9 2-2V5c0-1.1-.9-2-2-2zM9 17H7v-7h2v7zm4 0h-2V7h2v10zm4 0h-2v-4h2v4z\"/>\n",
              "    </g>\n",
              "</svg>\n",
              "  </button>\n",
              "\n",
              "<style>\n",
              "  .colab-df-quickchart {\n",
              "      --bg-color: #E8F0FE;\n",
              "      --fill-color: #1967D2;\n",
              "      --hover-bg-color: #E2EBFA;\n",
              "      --hover-fill-color: #174EA6;\n",
              "      --disabled-fill-color: #AAA;\n",
              "      --disabled-bg-color: #DDD;\n",
              "  }\n",
              "\n",
              "  [theme=dark] .colab-df-quickchart {\n",
              "      --bg-color: #3B4455;\n",
              "      --fill-color: #D2E3FC;\n",
              "      --hover-bg-color: #434B5C;\n",
              "      --hover-fill-color: #FFFFFF;\n",
              "      --disabled-bg-color: #3B4455;\n",
              "      --disabled-fill-color: #666;\n",
              "  }\n",
              "\n",
              "  .colab-df-quickchart {\n",
              "    background-color: var(--bg-color);\n",
              "    border: none;\n",
              "    border-radius: 50%;\n",
              "    cursor: pointer;\n",
              "    display: none;\n",
              "    fill: var(--fill-color);\n",
              "    height: 32px;\n",
              "    padding: 0;\n",
              "    width: 32px;\n",
              "  }\n",
              "\n",
              "  .colab-df-quickchart:hover {\n",
              "    background-color: var(--hover-bg-color);\n",
              "    box-shadow: 0 1px 2px rgba(60, 64, 67, 0.3), 0 1px 3px 1px rgba(60, 64, 67, 0.15);\n",
              "    fill: var(--button-hover-fill-color);\n",
              "  }\n",
              "\n",
              "  .colab-df-quickchart-complete:disabled,\n",
              "  .colab-df-quickchart-complete:disabled:hover {\n",
              "    background-color: var(--disabled-bg-color);\n",
              "    fill: var(--disabled-fill-color);\n",
              "    box-shadow: none;\n",
              "  }\n",
              "\n",
              "  .colab-df-spinner {\n",
              "    border: 2px solid var(--fill-color);\n",
              "    border-color: transparent;\n",
              "    border-bottom-color: var(--fill-color);\n",
              "    animation:\n",
              "      spin 1s steps(1) infinite;\n",
              "  }\n",
              "\n",
              "  @keyframes spin {\n",
              "    0% {\n",
              "      border-color: transparent;\n",
              "      border-bottom-color: var(--fill-color);\n",
              "      border-left-color: var(--fill-color);\n",
              "    }\n",
              "    20% {\n",
              "      border-color: transparent;\n",
              "      border-left-color: var(--fill-color);\n",
              "      border-top-color: var(--fill-color);\n",
              "    }\n",
              "    30% {\n",
              "      border-color: transparent;\n",
              "      border-left-color: var(--fill-color);\n",
              "      border-top-color: var(--fill-color);\n",
              "      border-right-color: var(--fill-color);\n",
              "    }\n",
              "    40% {\n",
              "      border-color: transparent;\n",
              "      border-right-color: var(--fill-color);\n",
              "      border-top-color: var(--fill-color);\n",
              "    }\n",
              "    60% {\n",
              "      border-color: transparent;\n",
              "      border-right-color: var(--fill-color);\n",
              "    }\n",
              "    80% {\n",
              "      border-color: transparent;\n",
              "      border-right-color: var(--fill-color);\n",
              "      border-bottom-color: var(--fill-color);\n",
              "    }\n",
              "    90% {\n",
              "      border-color: transparent;\n",
              "      border-bottom-color: var(--fill-color);\n",
              "    }\n",
              "  }\n",
              "</style>\n",
              "\n",
              "  <script>\n",
              "    async function quickchart(key) {\n",
              "      const quickchartButtonEl =\n",
              "        document.querySelector('#' + key + ' button');\n",
              "      quickchartButtonEl.disabled = true;  // To prevent multiple clicks.\n",
              "      quickchartButtonEl.classList.add('colab-df-spinner');\n",
              "      try {\n",
              "        const charts = await google.colab.kernel.invokeFunction(\n",
              "            'suggestCharts', [key], {});\n",
              "      } catch (error) {\n",
              "        console.error('Error during call to suggestCharts:', error);\n",
              "      }\n",
              "      quickchartButtonEl.classList.remove('colab-df-spinner');\n",
              "      quickchartButtonEl.classList.add('colab-df-quickchart-complete');\n",
              "    }\n",
              "    (() => {\n",
              "      let quickchartButtonEl =\n",
              "        document.querySelector('#df-0362f67e-4a2c-4506-9cde-39382f162e52 button');\n",
              "      quickchartButtonEl.style.display =\n",
              "        google.colab.kernel.accessAllowed ? 'block' : 'none';\n",
              "    })();\n",
              "  </script>\n",
              "</div>\n",
              "\n",
              "    </div>\n",
              "  </div>\n"
            ],
            "application/vnd.google.colaboratory.intrinsic+json": {
              "type": "dataframe",
              "variable_name": "df",
              "summary": "{\n  \"name\": \"df\",\n  \"rows\": 8675,\n  \"fields\": [\n    {\n      \"column\": \"type\",\n      \"properties\": {\n        \"dtype\": \"category\",\n        \"num_unique_values\": 16,\n        \"samples\": [\n          \"INFJ\",\n          \"ENTP\",\n          \"ENFJ\"\n        ],\n        \"semantic_type\": \"\",\n        \"description\": \"\"\n      }\n    },\n    {\n      \"column\": \"posts\",\n      \"properties\": {\n        \"dtype\": \"string\",\n        \"num_unique_values\": 8675,\n        \"samples\": [\n          \"'This. When I lie it's to avoid an unreasonable response for something I did that was completely justifiable to me but if I was to try to justify to someone else they'd be too hung up on what I did. I...|||Your IQ (SD15): 128|||I typically have very difficult times maintaining friends I've come to realize. I've had people I talk to for years and I still don't want to talk to them... I DID, but then I just got bored of them,...|||An INTJ friend of mine told me she really hates eating because it's so repetitive. As an INTP I don't really feel bothered, I don't really register eating I just do it while I'm thinking about...|||Similar Minds Advanced Test|||INTP 9 sx/so I have a lot of friends but I only have one I speak about how I actually feel with and only 1 other that I talk about what I am actually thinking about - with regards to...|||Getting close to someone and end up wanting to be infinitely close to them and end up merging every damn time.|||Interesting topic, I know two ENFP's, 1 is strange, as an INTP I view some of the stuff she does as 'coming onto me'?  - sort of. She gets really close and is very open to me, just what ENFP's do,...|||As far as I'm aware this is normal in all people, it's not so much your pessimistic self but just that humans are social creatures and you will feel better after socializing for that reason. Being...|||Vajrayaksa  How dare you use Lelouch as an INTP! He is an INTJ I say!|||I normally think about doing this stuff but don't actually do it.|||You'll probably find that commenting on their nihilistic thoughts logically would make them more open. Dismissing ideas will merely make them agree with that idea more as they'll feel a need to...|||Don't worry, calling me thinker is the same.|||INTJ - Winter - Coldest ENTJ - Summer - Actually doing things ENTP - Spring - Bringing out the fun in people INTP - Autumn - No one ever notices this season|||I've known a couple ENTP's, one ENTJ and an INTJ and it kind of went ENTP>ENTJ>ENTP>INTJ I love being able to constantly talk with ENTP's but also they need to know when to stop talking, if an ENTP...|||If you mean actually 1v1ing yourself I also have done this, maybe I'm wrong but I find it pretty easy to think about the most logical move the player I am playing should make with the information...|||Gender: female Age: 19-29 Intelligence: gifted Idea adoption: early-adopter MBTI personality profile: ESFP Closest alternative we found: ESFJ  I think I killed it when it told me to write...|||I'm fine with them, I'm more on shortage of people I'd ever want to do them with but that's on the grounds that any socialising that could be done could just as well be done over skype without the...|||I used to use pencils then I was told that my teachers wanted me to use pens only - so I used pens only. I haven't used a pencil - excluding my games of naughts and crosses earlier - in a couple...|||I'd love to own either a calm house out somewhere distant with a porch and a log cabin aesthetic - fuck it, I want a log cabin. OR I'd actually really like the idea of being in one of those smokey...|||Yeah I enjoy listening to lyrics but it doesn't make much of a difference if they're present or not, if they are there they're just another part of the instrumental I don't necessarily listen to...|||More often then not someone is only going to be fully entering my world if they invite me into theirs first and it's similar or we're friends on the internet - because then there are few...|||What did you get me today?  My head = Shit, shit, shit what did I miss, is it your birthday? Was I supposed to get you something? Are we that good friends that I should be buying you stuff? I...|||I frequently say it as an off hand thing, someone does something really awesome and I say fuck yeah I love you man or something like that. If I was to say it in a genuine way then it'd feel really...|||So something strange has been happening recently, my interest was drawn to naughts and crosses and how I could make it more enjoyable to play. I started by increasing the grid size and tried...|||You could tell them your thoughts. You could not tell them your thoughts and continue to brew over it. I think that there's no reason to be ashamed or annoyed about anything and if you don't...|||loudly, whilst he drew his|||and the baby platypi quivered|||particularly in the higher regions|||Starting with a lingering feeling|||What's the point of stopping? Why does it matter what they're called? Guilty pleasures are pleasures for a reason, does it matter that much?|||their own god dam story|||post multiple times to do|||It's impressive how people would|||Maximum of five words per line, feel free to say other stuff in the most but make sure it's clear which is the five words.     Once upon a time in|||someone who appreciates c.c. Fuck yeah!|||Yeezus can't we come to a reasonable conclusion without you picking a fight? It's not being open minded.|||More often then not I judge them purely by how they judge me, I have a dark sense of humor that I'm not exactly secretive about, I get along with most people on the grounds that I'm just friendly to...|||I chose my avatar as it's an awesome art work of Kaneki from Tokyo Ghoul and by god I loved the manga, love tragedies. Name is a slightly altered version of my name, George - Georgius. Liked the Halo...|||Violence in this situation would probably be a faster way to get things done for both parties involved and especially on the receiving end, trying to talk sense into someone who just said something...|||But surely the point that everyone would be worse off initially isn't relevant? Rebuilding a system would obviously have it's issues here and there.  I'm not crying revolution and I'm not being...|||We'd call it Diagon Alley!|||I'm with you, I make a pretty big point of not being a person for people to expect feelings from, I want to be that person but I just feel wrong, someones crying their eyes out and here I am lying...|||Good call but that's just how I read it ^^'|||What about a four dimensional plane.|||Why airplane why not aeroplane?|||Hit them for having the expectation that you should live up to their expectations which is infuriating in and of itself probably.|||It's just because hitting a women is politically incorrect and some women will use that to their advantage.|||What he's saying is that they should assume that if they say something worthy of being hit for, that they should be grateful when they're not hit for it, not expect not to be hit just on the basis...|||Is it particularly common amongst INTP's and other types to just acknowledge another sides point of view even though socially you shouldn't. What I mean by this is I can't have conversation with...'\",\n          \"'I said zero flexibility and little time for dating. Going around sifting through dates to find one that clicks isn't going to be as viable.  That has nothing to do with maintaining a relationship I...|||How you've come to the conclusion I have nothing to offer  merely because I am busy is beyond me.       No not really. Again, more made up stuff.|||okay, this isn't cool.  you're specifically looking to get into a relationship because you're about to enter a life phase where you will not have any resources to give to a relationship?   that is...|||I do take it slow (that's why I'm still single), but I'm not interested in making friends. I  have friends. Enough for my liking. I'm interested in going on dates with the intent of entering a...|||Absolutely not for me. I find the idea repugnant, actually.|||People could have been polite. Maybe average is a more conservative bet. And I'm not claiming I'm a social butterfly. I'm just a normal guy who is introverted but not a social doofus.  I don't...|||I'm probably giving up the online thing here when my next subscription runs out. After that I really don't know where to look. Bars are a definite no. I don't understand where people meet their...|||I've tried both ways, actually. The last few women I have gone out with have gotten really weird and/or ignored my backhanded compliments. I don't know what to do anymore. Seems I get screwed either...|||I'm actually pretty healthy.     Sorry you feel that way. Not sure which ones you met, but assholes exist everywhere. The number isn't anywhere near 99% though.|||If anything I err on the side of being indifferent. Definitely not overeager.|||Yeah my close friends don't live near me anymore.  The issue is that I have been meeting people, a good amount, and nothing works. I want to know why it is that deformed, infirm, mentally unstable,...|||My friends are in worse positions than I am. Asking them isn't going to help.   As far as feedback, not really because that seems like an extraordinarily awkward thing to ask someone you barely...|||So, I'm a 26 year old male who has been striking out time and time again when it comes to relationships. I've been in one relationship my entire life that lasted like 1.5 years and ended when I was...|||I don't think this sort of dating method is very reasonable, and at best, it is counterproductive. Being friends first just throws a wrench in what is normally a smooth dating process. When you fear...|||Never was a kiss.|||I appreciate the feedback. I think I'm just going to tell her we shouldn't hang out unless she can dedicate a decent amount of time to it. What is happening right now is dragging things out and...|||I don't know. After thinking more, I'm on the verge of giving up. It has nothing to do with seeing her infrequently, or not making it official or what have you. It's that she keeps things...|||I don't know. I'm not a model or anything but I'm decent looking. She's drop dead gorgeous and nice and smart. Guys are always after her it seems. But I'm also smarter and have better career...|||I like your answer, but maybe I'm just being optimistic. It is basically, what I've been doing. I can't shake the feeling that she wouldn't be giving me any of her time if she weren't interested and...|||How am I supposed to know if an INFJ just wants to be friends? Things have been very weird with an INFJ I've been seeing. I've been very upfront about my intentions and she essentially told me she...|||Interesting. I find it unusual INFJs are known for taking forever to open up and trust people yet all the responses so far have indicated kissing in 3 or fewer dates....|||My INFJ friend has been with an INTJ, and i don't want to bust your confidence but even though she liked him at first, she soon found out that he was putting her down and felt caged. I can see that...|||Enlighten us infjs. Also indicate your gender and if you initiated.|||Well there was more than that. She also said she was basically trying to figure out if I'm trustworthy and decent.|||Those two things seem at odds. How can you be simultaneously not saying things that need to be said but also being proactively aggressive?|||Pretty much yeah. Women just do not enjoy my company on any level. I'm in the same situation. Never had any female friends, dated one person in my life and it lasted a little less than two years. The...|||I don't think that is going to help me dig myself out of the very clingy seeming hole I dug myself. I basically asked her if she knew I was romantically interested and she responded of course lol...|||I should have just let things proceed at a natural pace. Pretty pissed at myself. About zero chance she speaks to me again.|||I read through most of that thread. From what I can tell I never did anything egregious. Good chance she lost interest after my bluntness though lol.|||I broke that off shortly after my post. I felt like a slime ball. I only did it because people were telling me she's a lost cause and I should see other people. BTW I have a very well developed...|||Update on this. Told her I liked her and got no reassurance she liked me or even that she wasn't interested. Those who said she was ambivalent were right. I'm pretty much calling it off at this point...|||Yeah so I told her and didn't get an affirmation she liked me nor that she didn't. She basically said she had known for a while I like her. Pretty much what I expected. Probably going to call it...|||Is the crystal ball reference supposed to mean your guess is as good as mine or what? Edit: guess not :p|||So I've gone on six or so dates with an INFJ over a 3 month period (she's pretty busy, and me too) and recently I feel like progress has been a little glacial. For a bit I thought she was warming up...|||She hates texting.  And yeah, she told me how picky she was about people recently and that normally she wouldn't give anyone the time of day.|||You would literally have to have an autism spectrum disorder. I would know.  Not to mention you don't tell someone who is just friends how much you like them. That would be more than bizarre.|||It's kind of hard to get to the point of officially dating when you have no idea what is going on in her head. For all I know an attempt to kiss her would result in abject horror and assault...|||Spoke to her last night, she essentially said she likes me a lot and would normally never make any time for people unless she was obligated to. But she also indirectly used the word friend but it...|||So I met an INFJ female a while back, and we've been out like five or so times on a date. They go well, we get along, everything seems nice. I find her very attractive and we have quite a bit in...|||'  I don't know, I kind of have a rule that I don't compliment a female on her appearance until she trusts me. I did compliment her personality a few times.  She is extremely cautious from what I...|||Well, now I have a new question. Went on a second date a few days ago and it went well and she said she wanted to meet up again. The problem is, there hasn't been an ounce of flirting or touching...|||She started initiating with me and asked if I'm free soon. -_-    If there is anything to be learned it is don't play the analysis game. You will lose.|||Expectations of....?|||I don't know. I can't really fault a strong introvert for being wary about someone she doesn't really know. Number 2 is cruel, but it is how modern dating works.    Pretty sure this isn't the...|||I don't know. I can't really fault a strong introvert for being wary about someone she doesn't really know. Number 2 is cruel, but it is how modern dating works.    Pretty sure this isn't the...|||Thanks, option 1 seems most likely. It seems whenever I finally get her to open up there is like a cascade of good conversation that finally ensues, but it is like pulling teeth initially. Then I...|||I'm socially retarded and would know that if a random stranger asked for my contact info then asked me out for drinks or lunch then the person probably isn't interested in just being friends.|||So I shouldn't be deterred by the fact she doesn't really ever reach out to me? I don't enjoy appearing like someone who can't take a hint or who puts someone else in an awkward situation. I worry...|||No this seems to fit her pretty well.|||Thanks for the advice everyone. I appreciate your taking the time to respond.'\",\n          \"'This has to be written with bias or something, I'm not sure how you could even say that truthfully. For some reason you put subjectivity for both God and man? It says nothing.    That makes no...|||??? How?  The main priority of the church is written throughout it's texts for the past nearly 2000 years and reverberated throughout the church's dialogues both before and after the incident about...|||That's an annoying phrasing, as it's just obtuse and confusing to newcomers. I don't blame you for your response there.    Why must the revealed knowledge not speak truth but contain a bias...|||There are no priestly desk jobs. The closest thing you have to being a priest that gets you away from people is being a monk and that in itself is very different.  I am telling you they did it out...|||No, you really won't. You can't just go to an INTP and assume their intelligence level. That would end in failure. Don't be afraid to ask big questions when musing with the INTP and just try to...|||Heresy is, like, the core reason most all Christian in-fighting occurs. Everything else is minor disputes about theological opinions.|||That's exceedingly subjective. See what they're interested in, strike up a conversation about it. Definitely ask them their thoughts.|||To dismiss my concept of it is to dismiss all history on the topic, dismiss what the apostles taught, and literally all sects of Christianity. But fine, whatever.|||Do cool shit, discuss ideas, have patience, don't try to judge personally too quickly or control them. ALSO, make the first move to show you're interested in talking with them.|||I used to feel about the same until I read the book Self-Made Man, where a lesbian 'butch' woman dressed like a man and tried to live as one. She noticed herself being considered a feminine man quite...|||I'm not sure what the hell is going on in this thread but I would like to say I know no ENTJs personally, I don't think. It'd be neat, though.|||All churches are forms of political institutions. Catholic and Orthodox ones have the benefit of being centralized. All sects have declared doctrine in one way or another.  You're speaking against...|||And here is the most boring post in the whole thread.|||What part? If it's the idea of a teaching authority, you have a problem with all church until the 13th century. If it's the idea of a group being guided by the Holy Spirit in their decisions on...|||For Catholics, the church has a dual meaning. The whole of the believers (the Body of Christ) and the political institution. For Catholicism, their teachings of Christ are said to be protected by...|||Priests were relocated to other parishes so they may quiet down the criticism of the time and handle thing themselves. Again, poor decision but that was their decision.  The church's first priority...|||Well sure then. Yes, the church did protect child offenders. The church's reasoning was the image of the church itself and the their leadership's own ignorance of the size of the problem. The church...|||Edit: Based double post|||No, it really isn't. The Bible itself is the canon collection of texts. The Bible was established once the theological and historical work was done to establish the canon and it was not modified...|||Yes, nevermind it because the two claims do not contradict each other at all. I could work through how there is no contradiction if you're struggling.    I wouldn't say all, no. That's a...|||? There's no way to tell? But many of them depend on logic and/or history that contradicts or ruins their claims? Granted there are a few cases of we're yet to be able to know but many of it can...|||The problem of induction is a grand way of humbling yourself about scientific findings when you're younger. It brings into question if what we know is what we could call true.|||Rubix cubes.|||Pantheism makes no sense. I'd advise otherwise. Atheism and Abrahamic Theism are the only two rational choices.|||You, motherfucker.|||What is the meaning of everything? The universe exists. We are to learn to love in it.|||Disappointed 24 year old reporting in.  Good luck, OP.|||This is exceedingly naive. The early church, before scripture, applied their teaching to better society. After scripture, it was held in high esteem as a basis to properly better society. Most work...|||From the Catholic Catechism (list of official teaching) here is how we are to read the Bible:  III. THE HOLY SPIRIT, INTERPRETER OF SCRIPTURE   109 In Sacred Scripture, God speaks to man in a...|||I never liked people pointing to the Scandinavian model for the success of their economic system and not their incredible oil and natural resource supply compared to their small populations.|||While shit just got stupid for a moment. Lets try to get back on track.|||You're pretty smart, you know that?  Look at this fucker, she thinks I'm smart. Pfft.|||Exceedingly poor.|||I've just been told I'm bright, but I'm sure most everyone else says the same to the kids.|||And what of you?|||The most efficient way to remove self-doubt is to stop doubting yourself so much. Faith and trust, nigga.|||You suspect wrongly. I like the chatter and I'm being friendly with you. I seriously do hope you have a good day too.|||Indeed you do. Feel free to ask/argue/chat/or bullshit with me if you want. Have a good one, man.|||I'd say that's a stretch to say. Catholics believe the bible was inspired by God but written by men. Orthodox do too. As they assembled the biblical canon I'd have to say they have the greatest say...|||Edit: Welp.|||I see the arguments for inconsistencies. Sometimes they aren't actually inconsistencies. Sometimes they are. I find the simplest example of a true one being the rabbit that is apparently chewing...|||Sorry to take so long to get back to you, my internet has been screwing up horribly.  As for the answer, there was a considerable amount of things that got me off the atheist train but if I were to...|||The believing portion was a long and arduous process for me. I researched culture as a hobby and eventually I rolled around to religion. It was an interesting topic for me and I eventually began to...|||To your first statement... just... what. Where did that even come from? Of course they can know love, though with God they can know it fully, I'd argue.  As for Hell, it's taken a variety of...|||I'm very mixed on him. His criticism of Christianity (and envy, now that I've seen the video) is, while popular, piss poor and Max Scheler did a wonderful job making an argument otherwise on his...|||People believing in something as incontrovertibly true is what gets people into a murderous rage? Why just the incontrovertibly true? Why not the empirically true? Why not just majority opinion? To...|||Sure thing. Sounds sorta similar to the Epicurean Paradox.  Suffering/free will exists to strengthen the good. If you create a people so they may know love they cannot sincerely know love if they...|||Yo. Christian INTP here.  Anything you want?|||It's not we can make healthy children! it's we only let the healthy babies live! which is the issue. It's a moral issue about the innate value of life.|||249210'\"\n        ],\n        \"semantic_type\": \"\",\n        \"description\": \"\"\n      }\n    },\n    {\n      \"column\": \"posts_cleaned\",\n      \"properties\": {\n        \"dtype\": \"string\",\n        \"num_unique_values\": 8674,\n        \"samples\": [\n          \"though guess based day day interaction open social way anxiety manifest told form schizophrenia xd first thing came mind think even fathom provocative sexy drink kind dance people two curse say mean thing actually say poo say last although read title initial thought commitment relates best first like people expectation like alone saw mentioned plant life agree get feeling though plant mind much think feel maybe easy way people understand tend vegetarian longest eventually drinking glass milk thought baby cow voice head mentioned milk meant baby cow x x mine prefer say yes rarely say impossible would never say hate regret saying anything ever hurt feeling another might say might necessarily mean yes love smile make people feel better expression feeling great subtle acknowledgment another existence yes feel need regardless circumstance honesty withholding opinion mean sorry way feel would prefer somebody also pretty big nerd say really look though lol enjoy cute people quite lot reminds thing mind kitten thinking kitten guy hit frequently go town especially noticed trend type guy hit well trend interest men woman recently mbti type related way one learns thank sunrain thread always good people focus like especially f type like inner strength power probably month new layout pretty cool miss friend personality cafe moved get kicked yes lol lol fun cinco de mayo know xd oh goodness lol amidst hangover passed halfway post thing edit tomorrow xd best friend discussing something interesting last night talking person originally common even knew eachother person know post venting thread fairly often generally something vent think healthy let presence supporting loving people like knew play instrument probably yesterday walking home feeling pretty day thing continuously working getting old cheered like know feel smoke weed x x shit better yet meditate deal life heroin day row life problem still unless something lost several friend heroin x x die tell want friend became zombie kidding really fucking sad one best frequently mismatch sock lol think ever matched begin shoelace bright pink shoe bright green course would wear green sock pink feel need blend speak part something right however feel need distinguish either happens nobody ever understand x x lol frequently misunderstood generally say positive thing like time even people bring insecurity everything yell last time got kicked dad say ex dad lol yes last got kicked ex dad tried waking friend woke somebody yell start shaking really bad get dizzy eye tear sometimes think get overwhelmed others reason eyenexepee overflow cute feel loved turned look date apparently week ago lol thought still april lol finished huge bottle vodka forum rule apologize really drunk thought playing drinking game people personality cafe sound like fun unique bonding know good point physical approach sometimes really hard news swallow something difficult happened find loud song preferably thought realized moved forum p also porn thread favs xd talk feeling time though make point thank much really help offered chance mural said yes know nervous would though took forever get confidence start practice painting reason kayness one favorite reminds tibetan buddhist mandala bunny x last one reminds bit pink lemonade love pink lemonade make everything better woo finished something sky seemed particularly pink today title vodka like wife xd put coffee chase water mix orange juice drink straight etc get super silly xd loose giggly lose limitation usually quiet nobody hear like think speaking loudly address somebody directly hear like foot away like talking somebody ah finished something super cute excited actually finished know mean easily fatigued sometimes keep going though cute always wanted tea shop bakery yoga place together thought including book one find girl like marry haha xd think think mostly interest enjoy nature spend lot time walking around looking flower plant passionate art love cook love perfectly honest believe bipolar even real also think foolish medicate say anybody dealing medication foolish really think yes yes yes yes yes love cooking tend make thing go people afraid try cook tell used try whole definitely agree edge sword thing regarding fi much used noticed many either present via avatar music interest color book etc recently realized point mbti type username seems fit better decide wrong within week probably far make much sense find sometimes go calm pensive withdrawn sitting still enjoying mellow minute hour later could incredibly chatty excited ready go darned p lol noticed issue working really hard improving ability thing like though honest completely honest answering mbti test thing x x mostly honest dishonesty usually something take part seem remember getting\",\n          \"know giving anyone else emotional advice like blind leading blind girl got guy leading happy life one year steady killer forum meant explore frank truth allow speak freely person place say make harsh reply calling someone usually drink lot vodka age say try focusing topic interest muse mind think place calm listen oh cheer everything going okay mourn loss could ask wanted person work investment finance like stay present alternate realty living head watching lb doberman pinscher getting bullied lb poodle two cat playing strange game next room involving one bra hair tie also watching work boyfriend two hardest worker department produce higher quality rate anyone else like compete home would like apologize girl work stole laffy taffy air head desk drawer went bathroom never felt least bit sorry uhm really may mirror another person outwardly e silliness seriousness sarcasm never mirror person feeling mirror unconsciously put people ease social plan hike entire appalachian trial georgia maine figure month walk wood clear residual social angst left life away working partner married year met magic hear tell worst mistake ever made wanted homebody going say man going attract lot different mbti type especially woman unconsciously seeking emotionally distant partner order hurt feel good interested loving guy afar began physically mirror kept score men around fantastic catch always seen going place confess love watching maury show paternity test saw nasty pound woman learn guy swore jesus baby daddy father ripped wig read history earth self correcting system george carlin said earth going shake u like bad case flea okay get minute search thread lay whole story two met stalled made bad decision finally agreed go get drink work casually via guy gon na banging soon never ever thought see thread subject forum shame shame capricorn deathnote brother art thou piano inglorious basterds kill bill sorry say depends much liquor involved usually enjoy social gathering always try good sport talk many people appear interested might un ish answer coming girl maybe two thinking much relationship point one get house think missed something beat lot kid smart kid problem currently dealing parent let drop take ged know live early kept close group friend essentially people let year someone outside group came destroyed social circle holy crap described religious life word word cool slightly creepy mean spend lot time alone thinking hanging people failing human experience also mean never answer never child clarify born infant grew never child year old mom caught stashing apartment listing sock drawer love situation basically every single member congress action essentially stated qualified work politics please ever vote ti ne every time ni move slow would take little slap make sit feel pain resonating throughout soul wear lot eye makeup tight low cut top show good sometimes blue pink streak hair walk shake as like runway hottest chick deal pushy person really depends much want sleep welcome home friend found people would love say million thing subject try keep short sweet younger best yet come experienced period huge personal growth theory extroverted world quiet people reserved uncomfortable social setting either branded shy sociopath going throw one anyone else absolutely addicted song ice fire game throne series swear read book start wealth experience character yes wealth book clutter yes wealth money probably think answer yes loneliness existentialist state always present unavoidable person deal loneliness ultimately defines look honestly like enjoyed many post respect opinion described real relationship f k buddy drop second thing get sweetest thing read year cried dad exactly way never realized older much father poured mind woman even read anyone else response want get rule dating keeping sigh noooooo whole complete unto self cool hip drive mile taste craft beer man old whore fart yes answer definitely yes people naturally designed extreme embrace fight make matter world interesting place quirk chris rock said lady dating man month still introduced friend family girlfriend big red flag okay first sure dealing male never heard one singing lady love calm first response feeling clam get say emotional tie snarky connotation sound like power weird people seem wear well others think must assume power people id say sound lot like year ago sometimes people wobble type change person happy loneliness failure although frequently experienced made better person still fear state also new parent afraid accidentally killing kid well drinking vodka sitting talking nice people boyfriend five foot front playing new final fantasy battle chicken whatever hell nooooooo boyfriend back college year much younger know handle men warning young lady boy total find way incorporate thing e listen good audio book maybe read little bit write angry letter intend send etc matter\",\n          \"relationship year three month easy reason mentioned highly emotional intuitive make fight super wish people would see silence wisdom instead nothing say kindness strength instead weakness solitude peace instead stingy ness often wonder many spent lot time wrote wonderful human sweet sincere honest kind funny sexy quirky always think endearing broke thought another good one sorry feel way blood boil part nice whole time read thought kind sweet also much completes also see becoming way envision constantly chase someone kinda like giddy omg omg day week month later well leave confess decided come alaska running away thing coming home nailed took inaccurate test freshman year college class people ended junior year college roommate knew post someone else post b much complicated doofus unfortunately never stayed real friend ex someone dated broke heart might anger always last stage grief reason involved discussion haha leave stop bragging seeing girl naked feel like cathartic long expecting response explanation apology really help tell someone possible without biting tongue good skill experience though really hurt happens easily sometimes without even knowing difficult avoid even found conflict something want avoid cost usually say something extremely hurtful since good reading emotion feel insecurity beacon confuse light brain spinning weakness strength black white dizzy emotion wish honest got excited going reply saying favorite color pink realized mean hooray pink least favorite thing ever said world single think need get need social right worst someone us something personal private painful confided hurt finding vulnerable area exploiting well oh gotcha yeah people thread deep looking eye crap hate trying disable people see work youtube blocked new day disagree people hard cold nothing recently happened finally ended walking away felt like hit wall term could give emotionally felt like holding belong memory belong heart spilling broken piece kept inside hoarding pain black white got ability crazy cool yeah way felt going happen like nervousness fear another anonymous voice popping head saying wait believe divine force higher power least something creates rhyme reason thing happen world whether understand day feeling something would happen based fact clue evidence freaked first time happened sometimes right neither guess meant someone make cry someone necessarily care make cry stick around fix seems unrealistic topic however think important thing learned one make cry worth tear hahaha totally hear exactly perfectionism seems common theme response valuable advice take run accepting lack control circumstance change worry anxiety depression love thank maybe maybe thanks opinion read article despise ironic year woman liberation succeeded turning woman commodity something used thrown great point culture may lot general sensitivity outlet yeah definitely feel exactly love quote signature way personality page portrait includes statement believe astoundingly true life necessarily easy capable great depth feeling feeling like feeling much homesick family ocean star wanting sink clear open water come someone told everyone alaska either running something hiding something think runner even pretend world oyster live lived run brought brought drive wait said fair heart sore tangled mess eye blue ever dream dark month forget know mad stuff happened previously already told want see pre flower therefore flower would sweet another time came oh god whole story oh coffee wish knew quit wrote drinking coffee really sure mean stating always mind somewhere else seems problem vice versa adhering strictly talking friend day think attracted dangerous men get bored men feel rival strength intellectually emotionally may working indian reservation state starting june actually air sound fun los angeles part la grad school final may th move oc june could come back biggie move stomach pavement facedown one around move crawl arm stretched shaking sun hit face rock onto hand hurt gravel like song video made cry\"\n        ],\n        \"semantic_type\": \"\",\n        \"description\": \"\"\n      }\n    },\n    {\n      \"column\": \"I/E\",\n      \"properties\": {\n        \"dtype\": \"category\",\n        \"num_unique_values\": 2,\n        \"samples\": [\n          \"E\",\n          \"I\"\n        ],\n        \"semantic_type\": \"\",\n        \"description\": \"\"\n      }\n    },\n    {\n      \"column\": \"N/S\",\n      \"properties\": {\n        \"dtype\": \"category\",\n        \"num_unique_values\": 2,\n        \"samples\": [\n          \"S\",\n          \"N\"\n        ],\n        \"semantic_type\": \"\",\n        \"description\": \"\"\n      }\n    },\n    {\n      \"column\": \"F/T\",\n      \"properties\": {\n        \"dtype\": \"category\",\n        \"num_unique_values\": 2,\n        \"samples\": [\n          \"T\",\n          \"F\"\n        ],\n        \"semantic_type\": \"\",\n        \"description\": \"\"\n      }\n    },\n    {\n      \"column\": \"J/P\",\n      \"properties\": {\n        \"dtype\": \"category\",\n        \"num_unique_values\": 2,\n        \"samples\": [\n          \"P\",\n          \"J\"\n        ],\n        \"semantic_type\": \"\",\n        \"description\": \"\"\n      }\n    },\n    {\n      \"column\": \"tokens\",\n      \"properties\": {\n        \"dtype\": \"string\",\n        \"num_unique_values\": 8675,\n        \"samples\": [\n          \"['lie', 'avoid', 'unreasonable', 'response', 'something', 'completely', 'justifiable', 'try', 'justify', 'someone', 'else', 'hung', 'iq', 'sd', 'typically', 'difficult', 'time', 'maintaining', 'friend', 'come', 'realize', 'people', 'talk', 'year', 'still', 'want', 'talk', 'got', 'bored', 'friend', 'mine', 'told', 'really', 'hate', 'eating', 'repetitive', 'really', 'feel', 'bothered', 'really', 'register', 'eating', 'thinking', 'similar', 'mind', 'advanced', 'test', 'sx', 'lot', 'friend', 'one', 'speak', 'actually', 'feel', 'talk', 'actually', 'thinking', 'regard', 'getting', 'close', 'someone', 'end', 'wanting', 'infinitely', 'close', 'end', 'merging', 'every', 'damn', 'time', 'interesting', 'topic', 'know', 'two', 'strange', 'view', 'stuff', 'coming', 'onto', 'sort', 'get', 'really', 'close', 'open', 'far', 'aware', 'normal', 'people', 'much', 'pessimistic', 'self', 'human', 'social', 'creature', 'feel', 'better', 'socializing', 'reason', 'vajrayaksa', 'dare', 'use', 'lelouch', 'say', 'normally', 'think', 'stuff', 'actually', 'probably', 'find', 'commenting', 'nihilistic', 'thought', 'logically', 'would', 'make', 'open', 'dismissing', 'idea', 'merely', 'make', 'agree', 'idea', 'feel', 'need', 'worry', 'calling', 'thinker', 'winter', 'coldest', 'summer', 'actually', 'thing', 'spring', 'bringing', 'fun', 'people', 'autumn', 'one', 'ever', 'notice', 'season', 'known', 'couple', 'one', 'kind', 'went', 'love', 'able', 'constantly', 'talk', 'also', 'need', 'know', 'stop', 'talking', 'mean', 'actually', 'ving', 'also', 'done', 'maybe', 'wrong', 'find', 'pretty', 'easy', 'think', 'logical', 'move', 'player', 'playing', 'make', 'information', 'gender', 'female', 'age', 'intelligence', 'gifted', 'idea', 'adoption', 'early', 'adopter', 'mbti', 'personality', 'profile', 'closest', 'alternative', 'found', 'think', 'killed', 'told', 'write', 'fine', 'shortage', 'people', 'ever', 'want', 'ground', 'socialising', 'could', 'done', 'could', 'well', 'done', 'skype', 'without', 'used', 'use', 'pencil', 'told', 'teacher', 'wanted', 'use', 'pen', 'used', 'pen', 'used', 'pencil', 'excluding', 'game', 'naught', 'cross', 'earlier', 'couple', 'love', 'either', 'calm', 'house', 'somewhere', 'distant', 'porch', 'log', 'cabin', 'aesthetic', 'fuck', 'want', 'log', 'cabin', 'actually', 'really', 'like', 'idea', 'one', 'smokey', 'yeah', 'enjoy', 'listening', 'lyric', 'make', 'much', 'difference', 'present', 'another', 'part', 'instrumental', 'necessarily', 'listen', 'often', 'someone', 'going', 'fully', 'entering', 'world', 'invite', 'first', 'similar', 'friend', 'internet', 'get', 'today', 'head', 'shit', 'shit', 'shit', 'miss', 'birthday', 'supposed', 'get', 'something', 'good', 'friend', 'buying', 'stuff', 'frequently', 'say', 'hand', 'thing', 'someone', 'something', 'really', 'awesome', 'say', 'fuck', 'yeah', 'love', 'man', 'something', 'like', 'say', 'genuine', 'way', 'feel', 'really', 'something', 'strange', 'happening', 'recently', 'interest', 'drawn', 'naught', 'cross', 'could', 'make', 'enjoyable', 'play', 'started', 'increasing', 'grid', 'size', 'tried', 'could', 'tell', 'thought', 'could', 'tell', 'thought', 'continue', 'brew', 'think', 'reason', 'ashamed', 'annoyed', 'anything', 'loudly', 'whilst', 'drew', 'baby', 'platypi', 'quivered', 'particularly', 'higher', 'region', 'starting', 'lingering', 'feeling', 'point', 'stopping', 'matter', 'called', 'guilty', 'pleasure', 'pleasure', 'reason', 'matter', 'much', 'god', 'dam', 'story', 'post', 'multiple', 'time', 'impressive', 'people', 'would', 'maximum', 'five', 'word', 'per', 'line', 'feel', 'free', 'say', 'stuff', 'make', 'sure', 'clear', 'five', 'word', 'upon', 'time', 'someone', 'appreciates', 'c', 'c', 'fuck', 'yeah', 'yeezus', 'come', 'reasonable', 'conclusion', 'without', 'picking', 'fight', 'open', 'minded', 'often', 'judge', 'purely', 'judge', 'dark', 'sense', 'humor', 'exactly', 'secretive', 'get', 'along', 'people', 'ground', 'friendly', 'chose', 'avatar', 'awesome', 'art', 'work', 'kaneki', 'tokyo', 'ghoul', 'god', 'loved', 'manga', 'love', 'tragedy', 'name', 'slightly', 'altered', 'version', 'name', 'george', 'georgius', 'liked', 'halo', 'violence', 'situation', 'would', 'probably', 'faster', 'way', 'get', 'thing', 'done', 'party', 'involved', 'especially', 'receiving', 'end', 'trying', 'talk', 'sense', 'someone', 'said', 'something', 'surely', 'point', 'everyone', 'would', 'worse', 'initially', 'relevant', 'rebuilding', 'system', 'would', 'obviously', 'issue', 'cry', 'revolution', 'call', 'diagon', 'alley', 'make', 'pretty', 'big', 'point', 'person', 'people', 'expect', 'feeling', 'want', 'person', 'feel', 'wrong', 'someone', 'cry', 'eye', 'lying', 'good', 'call', 'read', 'four', 'dimensional', 'plane', 'airplane', 'aeroplane', 'hit', 'expectation', 'live', 'expectation', 'infuriating', 'probably', 'hitting', 'woman', 'politically', 'incorrect', 'woman', 'use', 'advantage', 'saying', 'assume', 'say', 'something', 'worthy', 'hit', 'grateful', 'hit', 'expect', 'hit', 'basis', 'particularly', 'common', 'amongst', 'type', 'acknowledge', 'another', 'side', 'point', 'view', 'even', 'though', 'socially', 'mean', 'conversation']\",\n          \"['said', 'zero', 'flexibility', 'little', 'time', 'dating', 'going', 'around', 'sifting', 'date', 'find', 'one', 'click', 'going', 'viable', 'nothing', 'maintaining', 'relationship', 'come', 'conclusion', 'nothing', 'offer', 'merely', 'busy', 'beyond', 'really', 'made', 'stuff', 'okay', 'cool', 'specifically', 'looking', 'get', 'relationship', 'enter', 'life', 'phase', 'resource', 'give', 'relationship', 'take', 'slow', 'still', 'single', 'interested', 'making', 'friend', 'friend', 'enough', 'liking', 'interested', 'going', 'date', 'intent', 'entering', 'absolutely', 'find', 'idea', 'repugnant', 'actually', 'people', 'could', 'polite', 'maybe', 'average', 'conservative', 'bet', 'claiming', 'social', 'butterfly', 'normal', 'guy', 'introverted', 'social', 'doofus', 'probably', 'giving', 'online', 'thing', 'next', 'subscription', 'run', 'really', 'know', 'look', 'bar', 'definite', 'understand', 'people', 'meet', 'tried', 'way', 'actually', 'last', 'woman', 'gone', 'gotten', 'really', 'weird', 'ignored', 'backhanded', 'compliment', 'know', 'anymore', 'seems', 'get', 'screwed', 'either', 'actually', 'pretty', 'healthy', 'sorry', 'feel', 'way', 'sure', 'one', 'met', 'asshole', 'exist', 'everywhere', 'number', 'anywhere', 'near', 'though', 'anything', 'err', 'side', 'indifferent', 'definitely', 'overeager', 'yeah', 'close', 'friend', 'live', 'near', 'anymore', 'issue', 'meeting', 'people', 'good', 'amount', 'nothing', 'work', 'want', 'know', 'deformed', 'infirm', 'mentally', 'unstable', 'friend', 'worse', 'position', 'asking', 'going', 'help', 'far', 'feedback', 'really', 'seems', 'like', 'extraordinarily', 'awkward', 'thing', 'ask', 'someone', 'barely', 'year', 'old', 'male', 'striking', 'time', 'time', 'come', 'relationship', 'one', 'relationship', 'entire', 'life', 'lasted', 'like', 'year', 'ended', 'think', 'sort', 'dating', 'method', 'reasonable', 'best', 'counterproductive', 'friend', 'first', 'throw', 'wrench', 'normally', 'smooth', 'dating', 'process', 'fear', 'never', 'kiss', 'appreciate', 'feedback', 'think', 'going', 'tell', 'hang', 'unless', 'dedicate', 'decent', 'amount', 'time', 'happening', 'right', 'dragging', 'thing', 'know', 'thinking', 'verge', 'giving', 'nothing', 'seeing', 'infrequently', 'making', 'official', 'keep', 'thing', 'know', 'model', 'anything', 'decent', 'looking', 'drop', 'dead', 'gorgeous', 'nice', 'smart', 'guy', 'always', 'seems', 'also', 'smarter', 'better', 'career', 'like', 'answer', 'maybe', 'optimistic', 'basically', 'shake', 'feeling', 'giving', 'time', 'interested', 'supposed', 'know', 'want', 'friend', 'thing', 'weird', 'seeing', 'upfront', 'intention', 'essentially', 'told', 'interesting', 'find', 'unusual', 'known', 'taking', 'forever', 'open', 'trust', 'people', 'yet', 'response', 'far', 'indicated', 'kissing', 'fewer', 'date', 'friend', 'want', 'bust', 'confidence', 'even', 'though', 'liked', 'first', 'soon', 'found', 'putting', 'felt', 'caged', 'see', 'enlighten', 'u', 'also', 'indicate', 'gender', 'initiated', 'well', 'also', 'said', 'basically', 'trying', 'figure', 'trustworthy', 'decent', 'two', 'thing', 'seem', 'odds', 'simultaneously', 'saying', 'thing', 'need', 'said', 'also', 'proactively', 'aggressive', 'pretty', 'much', 'yeah', 'woman', 'enjoy', 'company', 'level', 'situation', 'never', 'female', 'friend', 'dated', 'one', 'person', 'life', 'lasted', 'little', 'le', 'two', 'year', 'think', 'going', 'help', 'dig', 'clingy', 'seeming', 'hole', 'dug', 'basically', 'asked', 'knew', 'romantically', 'interested', 'responded', 'course', 'lol', 'let', 'thing', 'proceed', 'natural', 'pace', 'pretty', 'pissed', 'zero', 'chance', 'speaks', 'read', 'thread', 'tell', 'never', 'anything', 'egregious', 'good', 'chance', 'lost', 'interest', 'bluntness', 'though', 'lol', 'broke', 'shortly', 'post', 'felt', 'like', 'slime', 'ball', 'people', 'telling', 'lost', 'cause', 'see', 'people', 'btw', 'well', 'developed', 'update', 'told', 'liked', 'got', 'reassurance', 'liked', 'even', 'interested', 'said', 'ambivalent', 'right', 'pretty', 'much', 'calling', 'point', 'yeah', 'told', 'get', 'affirmation', 'liked', 'basically', 'said', 'known', 'like', 'pretty', 'much', 'expected', 'probably', 'going', 'call', 'crystal', 'ball', 'reference', 'supposed', 'mean', 'guess', 'good', 'mine', 'edit', 'guess', 'p', 'gone', 'six', 'date', 'month', 'period', 'pretty', 'busy', 'recently', 'feel', 'like', 'progress', 'little', 'glacial', 'bit', 'thought', 'warming', 'hate', 'texting', 'yeah', 'told', 'picky', 'people', 'recently', 'normally', 'give', 'anyone', 'time', 'day', 'would', 'literally', 'autism', 'spectrum', 'disorder', 'would', 'know', 'mention', 'tell', 'someone', 'friend', 'much', 'like', 'would', 'bizarre', 'kind', 'hard', 'get', 'point', 'officially', 'dating', 'idea', 'going', 'head', 'know', 'attempt', 'kiss', 'would', 'result', 'abject', 'horror', 'assault', 'spoke', 'last', 'night', 'essentially', 'said', 'like', 'lot', 'would', 'normally', 'never', 'make', 'time', 'people', 'unless', 'obligated', 'also', 'indirectly', 'used', 'word', 'friend', 'met', 'female', 'back', 'like', 'five', 'time', 'date', 'go', 'well', 'get', 'along', 'everything', 'seems', 'nice', 'find', 'attractive', 'quite', 'bit', 'know', 'kind', 'rule', 'compliment', 'female', 'appearance', 'trust', 'compliment', 'personality', 'time', 'extremely', 'cautious', 'well', 'new', 'question', 'went', 'second', 'date', 'day', 'ago', 'went', 'well', 'said', 'wanted', 'meet', 'problem', 'ounce', 'flirting', 'touching', 'started', 'initiating', 'asked', 'free', 'soon', 'anything', 'learned', 'play', 'analysis', 'game', 'lose', 'expectation', 'know', 'really', 'fault', 'strong', 'introvert', 'wary', 'someone', 'really', 'know', 'number', 'cruel', 'modern', 'dating', 'work', 'pretty', 'sure', 'know', 'really', 'fault', 'strong', 'introvert', 'wary', 'someone', 'really', 'know', 'number', 'cruel', 'modern', 'dating', 'work', 'pretty', 'sure', 'thanks', 'option', 'seems', 'likely', 'seems', 'whenever', 'finally', 'get', 'open', 'like', 'cascade', 'good', 'conversation', 'finally', 'ensues', 'like', 'pulling', 'teeth', 'initially', 'socially', 'retarded', 'would', 'know', 'random', 'stranger', 'asked', 'contact', 'info', 'asked', 'drink', 'lunch', 'person', 'probably', 'interested', 'friend', 'deterred', 'fact', 'really', 'ever', 'reach', 'enjoy', 'appearing', 'like', 'someone', 'take', 'hint', 'put', 'someone', 'else', 'awkward', 'situation', 'worry', 'seems', 'fit', 'pretty', 'well', 'thanks', 'advice', 'everyone', 'appreciate', 'taking', 'time', 'respond']\"\n        ],\n        \"semantic_type\": \"\",\n        \"description\": \"\"\n      }\n    }\n  ]\n}"
            }
          },
          "metadata": {},
          "execution_count": 6
        }
      ]
    },
    {
      "cell_type": "markdown",
      "source": [
        "#Split Data"
      ],
      "metadata": {
        "id": "VgW9Pdm5su0a"
      }
    },
    {
      "cell_type": "code",
      "source": [
        "# Check distribution before splitting\n",
        "print(\"Distribution before splitting:\")\n",
        "print(df['type'].value_counts(normalize=True))"
      ],
      "metadata": {
        "colab": {
          "base_uri": "https://localhost:8080/"
        },
        "id": "yI7qR_-6sv13",
        "outputId": "2655504f-b64e-4c59-b182-9ca01a032c06"
      },
      "execution_count": null,
      "outputs": [
        {
          "output_type": "stream",
          "name": "stdout",
          "text": [
            "Distribution before splitting:\n",
            "type\n",
            "INFP    0.211182\n",
            "INFJ    0.169452\n",
            "INTP    0.150317\n",
            "INTJ    0.125764\n",
            "ENTP    0.078963\n",
            "ENFP    0.077810\n",
            "ISTP    0.038847\n",
            "ISFP    0.031239\n",
            "ENTJ    0.026628\n",
            "ISTJ    0.023631\n",
            "ENFJ    0.021902\n",
            "ISFJ    0.019135\n",
            "ESTP    0.010259\n",
            "ESFP    0.005533\n",
            "ESFJ    0.004841\n",
            "ESTJ    0.004496\n",
            "Name: proportion, dtype: float64\n"
          ]
        }
      ]
    },
    {
      "cell_type": "code",
      "source": [
        "# Split data into training and testing sets (80% train, 20% test)\n",
        "train_df, test_df = train_test_split(df, test_size=0.2, stratify=df['type'], random_state=42)"
      ],
      "metadata": {
        "id": "sGfTt6was6Fh"
      },
      "execution_count": null,
      "outputs": []
    },
    {
      "cell_type": "code",
      "source": [
        "# Check distribution after splitting\n",
        "print(\"\\nDistribution in training set:\")\n",
        "print(train_df['type'].value_counts(normalize=True))\n",
        "\n",
        "print(\"\\nDistribution in test set:\")\n",
        "print(test_df['type'].value_counts(normalize=True))"
      ],
      "metadata": {
        "colab": {
          "base_uri": "https://localhost:8080/"
        },
        "id": "mzdB-m0Is7fx",
        "outputId": "eed3fa52-7f78-4b98-fb8c-dfd39a1543f6"
      },
      "execution_count": null,
      "outputs": [
        {
          "output_type": "stream",
          "name": "stdout",
          "text": [
            "\n",
            "Distribution in training set:\n",
            "type\n",
            "INFP    0.211239\n",
            "INFJ    0.169452\n",
            "INTP    0.150288\n",
            "INTJ    0.125793\n",
            "ENTP    0.078963\n",
            "ENFP    0.077810\n",
            "ISTP    0.038905\n",
            "ISFP    0.031268\n",
            "ENTJ    0.026657\n",
            "ISTJ    0.023631\n",
            "ENFJ    0.021902\n",
            "ISFJ    0.019164\n",
            "ESTP    0.010231\n",
            "ESFP    0.005476\n",
            "ESFJ    0.004755\n",
            "ESTJ    0.004467\n",
            "Name: proportion, dtype: float64\n",
            "\n",
            "Distribution in test set:\n",
            "type\n",
            "INFP    0.210951\n",
            "INFJ    0.169452\n",
            "INTP    0.150432\n",
            "INTJ    0.125648\n",
            "ENTP    0.078963\n",
            "ENFP    0.077810\n",
            "ISTP    0.038617\n",
            "ISFP    0.031124\n",
            "ENTJ    0.026513\n",
            "ISTJ    0.023631\n",
            "ENFJ    0.021902\n",
            "ISFJ    0.019020\n",
            "ESTP    0.010375\n",
            "ESFP    0.005764\n",
            "ESFJ    0.005187\n",
            "ESTJ    0.004611\n",
            "Name: proportion, dtype: float64\n"
          ]
        }
      ]
    },
    {
      "cell_type": "code",
      "source": [
        "# Save train and test sets to CSV\n",
        "train_df.to_csv('train_set2.csv', index=False)\n",
        "test_df.to_csv('test_set2.csv', index=False)"
      ],
      "metadata": {
        "id": "wSOMyKKJs9Z1"
      },
      "execution_count": null,
      "outputs": []
    },
    {
      "cell_type": "code",
      "source": [
        "# Download the file to your local machine\n",
        "files.download('test_set2.csv')"
      ],
      "metadata": {
        "colab": {
          "base_uri": "https://localhost:8080/",
          "height": 17
        },
        "id": "Hd21ADPvtFhI",
        "outputId": "1303011c-58de-4a30-eed8-58bed2768700"
      },
      "execution_count": null,
      "outputs": [
        {
          "output_type": "display_data",
          "data": {
            "text/plain": [
              "<IPython.core.display.Javascript object>"
            ],
            "application/javascript": [
              "\n",
              "    async function download(id, filename, size) {\n",
              "      if (!google.colab.kernel.accessAllowed) {\n",
              "        return;\n",
              "      }\n",
              "      const div = document.createElement('div');\n",
              "      const label = document.createElement('label');\n",
              "      label.textContent = `Downloading \"${filename}\": `;\n",
              "      div.appendChild(label);\n",
              "      const progress = document.createElement('progress');\n",
              "      progress.max = size;\n",
              "      div.appendChild(progress);\n",
              "      document.body.appendChild(div);\n",
              "\n",
              "      const buffers = [];\n",
              "      let downloaded = 0;\n",
              "\n",
              "      const channel = await google.colab.kernel.comms.open(id);\n",
              "      // Send a message to notify the kernel that we're ready.\n",
              "      channel.send({})\n",
              "\n",
              "      for await (const message of channel.messages) {\n",
              "        // Send a message to notify the kernel that we're ready.\n",
              "        channel.send({})\n",
              "        if (message.buffers) {\n",
              "          for (const buffer of message.buffers) {\n",
              "            buffers.push(buffer);\n",
              "            downloaded += buffer.byteLength;\n",
              "            progress.value = downloaded;\n",
              "          }\n",
              "        }\n",
              "      }\n",
              "      const blob = new Blob(buffers, {type: 'application/binary'});\n",
              "      const a = document.createElement('a');\n",
              "      a.href = window.URL.createObjectURL(blob);\n",
              "      a.download = filename;\n",
              "      div.appendChild(a);\n",
              "      a.click();\n",
              "      div.remove();\n",
              "    }\n",
              "  "
            ]
          },
          "metadata": {}
        },
        {
          "output_type": "display_data",
          "data": {
            "text/plain": [
              "<IPython.core.display.Javascript object>"
            ],
            "application/javascript": [
              "download(\"download_16f23f6e-d169-40b6-8dcf-4e2c6ef12de6\", \"test_set2.csv\", 29294933)"
            ]
          },
          "metadata": {}
        }
      ]
    },
    {
      "cell_type": "code",
      "source": [
        "# Load the CSV file into a new DataFrame\n",
        "train_df = pd.read_csv('train_set2.csv')\n",
        "test_df = pd.read_csv('test_set2.csv')"
      ],
      "metadata": {
        "id": "d--KyZ2KtYJw"
      },
      "execution_count": null,
      "outputs": []
    },
    {
      "cell_type": "markdown",
      "source": [
        "#Feature Extraction"
      ],
      "metadata": {
        "id": "UCScjhr_tl9s"
      }
    },
    {
      "cell_type": "code",
      "source": [
        "# Convert all entries in the 'posts_cleaned' column to strings, replacing NaNs with empty strings\n",
        "train_df['posts_cleaned'] = train_df['posts_cleaned'].astype(str).fillna('')\n",
        "test_df['posts_cleaned'] = test_df['posts_cleaned'].astype(str).fillna('')"
      ],
      "metadata": {
        "id": "ThQTqmmktoZI"
      },
      "execution_count": null,
      "outputs": []
    },
    {
      "cell_type": "code",
      "source": [
        "# Tokenize the data\n",
        "train_tokens = train_df['posts_cleaned'].apply(word_tokenize)\n",
        "test_tokens = test_df['posts_cleaned'].apply(word_tokenize)"
      ],
      "metadata": {
        "id": "Txy2_WIktxnl"
      },
      "execution_count": null,
      "outputs": []
    },
    {
      "cell_type": "code",
      "source": [
        "# Train Word2Vec model\n",
        "word2vec_model = Word2Vec(sentences=train_tokens, vector_size=400, window=5, min_count=1, workers=4)"
      ],
      "metadata": {
        "id": "2kxyrVcStykY"
      },
      "execution_count": null,
      "outputs": []
    },
    {
      "cell_type": "code",
      "source": [
        "# Function to get Word2Vec features\n",
        "def get_word2vec_features(text, model, num_features):\n",
        "    words = text.split()\n",
        "    feature_vector = np.zeros((num_features,), dtype=\"float32\")\n",
        "    for word in words:\n",
        "        if word in model.wv:\n",
        "            feature_vector = np.add(feature_vector, model.wv[word])\n",
        "    if len(words) > 0:\n",
        "        feature_vector = np.divide(feature_vector, len(words))\n",
        "    return feature_vector"
      ],
      "metadata": {
        "id": "f6nhRxhbuboh"
      },
      "execution_count": null,
      "outputs": []
    },
    {
      "cell_type": "code",
      "source": [
        "# Extract Word2Vec features\n",
        "train_word2vec_features = np.array([get_word2vec_features(text, word2vec_model, 400) for text in train_df['posts_cleaned']])\n",
        "test_word2vec_features = np.array([get_word2vec_features(text, word2vec_model, 400) for text in test_df['posts_cleaned']])"
      ],
      "metadata": {
        "id": "frIQQ0Z-ugJh"
      },
      "execution_count": null,
      "outputs": []
    },
    {
      "cell_type": "code",
      "source": [
        "# TF-IDF vectorization\n",
        "tfidf_vectorizer = TfidfVectorizer(max_features=400)\n",
        "train_tfidf_features = tfidf_vectorizer.fit_transform(train_df['posts_cleaned']).toarray()\n",
        "test_tfidf_features = tfidf_vectorizer.transform(test_df['posts_cleaned']).toarray()"
      ],
      "metadata": {
        "id": "FTHEw50Kuhql"
      },
      "execution_count": null,
      "outputs": []
    },
    {
      "cell_type": "code",
      "source": [
        "# Combine Word2Vec and TF-IDF features\n",
        "train_combined_features = np.hstack((train_word2vec_features, train_tfidf_features))\n",
        "test_combined_features = np.hstack((test_word2vec_features, test_tfidf_features))"
      ],
      "metadata": {
        "id": "51n6iwPlxqnd"
      },
      "execution_count": null,
      "outputs": []
    },
    {
      "cell_type": "markdown",
      "source": [
        "#Model"
      ],
      "metadata": {
        "id": "HawWr5ZTx4U8"
      }
    },
    {
      "cell_type": "code",
      "source": [
        "# Define a mapping from MBTI type to dimensions\n",
        "def get_mbti_dimensions(mbti_type):\n",
        "    ie = 1 if mbti_type[0] == 'I' else 0\n",
        "    ns = 1 if mbti_type[1] == 'N' else 0\n",
        "    ft = 1 if mbti_type[2] == 'F' else 0\n",
        "    jp = 1 if mbti_type[3] == 'J' else 0\n",
        "    return ie, ns, ft, jp\n",
        "\n",
        "# Apply the function to both train and test sets\n",
        "train_df[['I/E', 'N/S', 'F/T', 'J/P']] = train_df['type'].apply(lambda x: pd.Series(get_mbti_dimensions(x)))\n",
        "test_df[['I/E', 'N/S', 'F/T', 'J/P']] = test_df['type'].apply(lambda x: pd.Series(get_mbti_dimensions(x)))"
      ],
      "metadata": {
        "id": "bbmXx8oYx42o"
      },
      "execution_count": null,
      "outputs": []
    },
    {
      "cell_type": "code",
      "source": [
        "# Define the RandomForest model\n",
        "rf_model = RandomForestClassifier(random_state=42, max_depth=10)"
      ],
      "metadata": {
        "id": "IBCf8FKux6pw"
      },
      "execution_count": null,
      "outputs": []
    },
    {
      "cell_type": "code",
      "source": [
        "# Train the model on class type\n",
        "rf_model.fit(train_combined_features, train_df['type'])"
      ],
      "metadata": {
        "colab": {
          "base_uri": "https://localhost:8080/",
          "height": 74
        },
        "id": "go08B8Gzy5ud",
        "outputId": "db104087-2b8e-4db5-b957-2e3530622a4f"
      },
      "execution_count": null,
      "outputs": [
        {
          "output_type": "execute_result",
          "data": {
            "text/plain": [
              "RandomForestClassifier(max_depth=10, random_state=42)"
            ],
            "text/html": [
              "<style>#sk-container-id-1 {color: black;}#sk-container-id-1 pre{padding: 0;}#sk-container-id-1 div.sk-toggleable {background-color: white;}#sk-container-id-1 label.sk-toggleable__label {cursor: pointer;display: block;width: 100%;margin-bottom: 0;padding: 0.3em;box-sizing: border-box;text-align: center;}#sk-container-id-1 label.sk-toggleable__label-arrow:before {content: \"▸\";float: left;margin-right: 0.25em;color: #696969;}#sk-container-id-1 label.sk-toggleable__label-arrow:hover:before {color: black;}#sk-container-id-1 div.sk-estimator:hover label.sk-toggleable__label-arrow:before {color: black;}#sk-container-id-1 div.sk-toggleable__content {max-height: 0;max-width: 0;overflow: hidden;text-align: left;background-color: #f0f8ff;}#sk-container-id-1 div.sk-toggleable__content pre {margin: 0.2em;color: black;border-radius: 0.25em;background-color: #f0f8ff;}#sk-container-id-1 input.sk-toggleable__control:checked~div.sk-toggleable__content {max-height: 200px;max-width: 100%;overflow: auto;}#sk-container-id-1 input.sk-toggleable__control:checked~label.sk-toggleable__label-arrow:before {content: \"▾\";}#sk-container-id-1 div.sk-estimator input.sk-toggleable__control:checked~label.sk-toggleable__label {background-color: #d4ebff;}#sk-container-id-1 div.sk-label input.sk-toggleable__control:checked~label.sk-toggleable__label {background-color: #d4ebff;}#sk-container-id-1 input.sk-hidden--visually {border: 0;clip: rect(1px 1px 1px 1px);clip: rect(1px, 1px, 1px, 1px);height: 1px;margin: -1px;overflow: hidden;padding: 0;position: absolute;width: 1px;}#sk-container-id-1 div.sk-estimator {font-family: monospace;background-color: #f0f8ff;border: 1px dotted black;border-radius: 0.25em;box-sizing: border-box;margin-bottom: 0.5em;}#sk-container-id-1 div.sk-estimator:hover {background-color: #d4ebff;}#sk-container-id-1 div.sk-parallel-item::after {content: \"\";width: 100%;border-bottom: 1px solid gray;flex-grow: 1;}#sk-container-id-1 div.sk-label:hover label.sk-toggleable__label {background-color: #d4ebff;}#sk-container-id-1 div.sk-serial::before {content: \"\";position: absolute;border-left: 1px solid gray;box-sizing: border-box;top: 0;bottom: 0;left: 50%;z-index: 0;}#sk-container-id-1 div.sk-serial {display: flex;flex-direction: column;align-items: center;background-color: white;padding-right: 0.2em;padding-left: 0.2em;position: relative;}#sk-container-id-1 div.sk-item {position: relative;z-index: 1;}#sk-container-id-1 div.sk-parallel {display: flex;align-items: stretch;justify-content: center;background-color: white;position: relative;}#sk-container-id-1 div.sk-item::before, #sk-container-id-1 div.sk-parallel-item::before {content: \"\";position: absolute;border-left: 1px solid gray;box-sizing: border-box;top: 0;bottom: 0;left: 50%;z-index: -1;}#sk-container-id-1 div.sk-parallel-item {display: flex;flex-direction: column;z-index: 1;position: relative;background-color: white;}#sk-container-id-1 div.sk-parallel-item:first-child::after {align-self: flex-end;width: 50%;}#sk-container-id-1 div.sk-parallel-item:last-child::after {align-self: flex-start;width: 50%;}#sk-container-id-1 div.sk-parallel-item:only-child::after {width: 0;}#sk-container-id-1 div.sk-dashed-wrapped {border: 1px dashed gray;margin: 0 0.4em 0.5em 0.4em;box-sizing: border-box;padding-bottom: 0.4em;background-color: white;}#sk-container-id-1 div.sk-label label {font-family: monospace;font-weight: bold;display: inline-block;line-height: 1.2em;}#sk-container-id-1 div.sk-label-container {text-align: center;}#sk-container-id-1 div.sk-container {/* jupyter's `normalize.less` sets `[hidden] { display: none; }` but bootstrap.min.css set `[hidden] { display: none !important; }` so we also need the `!important` here to be able to override the default hidden behavior on the sphinx rendered scikit-learn.org. See: https://github.com/scikit-learn/scikit-learn/issues/21755 */display: inline-block !important;position: relative;}#sk-container-id-1 div.sk-text-repr-fallback {display: none;}</style><div id=\"sk-container-id-1\" class=\"sk-top-container\"><div class=\"sk-text-repr-fallback\"><pre>RandomForestClassifier(max_depth=10, random_state=42)</pre><b>In a Jupyter environment, please rerun this cell to show the HTML representation or trust the notebook. <br />On GitHub, the HTML representation is unable to render, please try loading this page with nbviewer.org.</b></div><div class=\"sk-container\" hidden><div class=\"sk-item\"><div class=\"sk-estimator sk-toggleable\"><input class=\"sk-toggleable__control sk-hidden--visually\" id=\"sk-estimator-id-1\" type=\"checkbox\" checked><label for=\"sk-estimator-id-1\" class=\"sk-toggleable__label sk-toggleable__label-arrow\">RandomForestClassifier</label><div class=\"sk-toggleable__content\"><pre>RandomForestClassifier(max_depth=10, random_state=42)</pre></div></div></div></div></div>"
            ]
          },
          "metadata": {},
          "execution_count": 21
        }
      ]
    },
    {
      "cell_type": "code",
      "source": [
        "# Predict on the train set and map to dimensions\n",
        "train_predictions = rf_model.predict(train_combined_features)\n",
        "train_pred_dimensions = pd.DataFrame([get_mbti_dimensions(pred) for pred in train_predictions], columns=['I/E', 'N/S', 'F/T', 'J/P'])"
      ],
      "metadata": {
        "id": "HT09r1Rc0Yma"
      },
      "execution_count": null,
      "outputs": []
    },
    {
      "cell_type": "code",
      "source": [
        "# Predict on the test set and map to dimensions\n",
        "test_predictions = rf_model.predict(test_combined_features)\n",
        "test_pred_dimensions = pd.DataFrame([get_mbti_dimensions(pred) for pred in test_predictions], columns=['I/E', 'N/S', 'F/T', 'J/P'])"
      ],
      "metadata": {
        "id": "dStFaHYd0Z0f"
      },
      "execution_count": null,
      "outputs": []
    },
    {
      "cell_type": "code",
      "source": [
        "# Initialize lists to store metrics for each dimension\n",
        "average_accuracies = []\n",
        "precisions = []\n",
        "recalls = []\n",
        "f1_scores = []\n",
        "\n",
        "# Calculate metrics for each dimension and their averages\n",
        "for dimension in ['I/E', 'N/S', 'F/T', 'J/P']:\n",
        "    train_accuracy = accuracy_score(train_df[dimension], train_pred_dimensions[dimension])\n",
        "    test_accuracy = accuracy_score(test_df[dimension], test_pred_dimensions[dimension])\n",
        "\n",
        "    # Calculate the average accuracy for this dimension\n",
        "    average_accuracy = (train_accuracy + test_accuracy) / 2\n",
        "    average_accuracies.append(average_accuracy)\n",
        "\n",
        "    # Calculate precision, recall, and f1-score for the test set\n",
        "    precision = precision_score(test_df[dimension], test_pred_dimensions[dimension])\n",
        "    recall = recall_score(test_df[dimension], test_pred_dimensions[dimension])\n",
        "    f1 = f1_score(test_df[dimension], test_pred_dimensions[dimension])\n",
        "\n",
        "    precisions.append(precision)\n",
        "    recalls.append(recall)\n",
        "    f1_scores.append(f1)\n",
        "\n",
        "    print(f\"Train Accuracy for {dimension}: {train_accuracy}\")\n",
        "    print(f\"Test Accuracy for {dimension}: {test_accuracy}\")\n",
        "    print(f\"Average Accuracy for {dimension}: {average_accuracy}\")\n",
        "    print(f\"Precision for {dimension}: {precision}\")\n",
        "    print(f\"Recall for {dimension}: {recall}\")\n",
        "    print(f\"F1-Score for {dimension}: {f1}\\n\")\n",
        "\n",
        "# If you want to calculate an overall average accuracy, precision, recall, and f1-score across all dimensions\n",
        "overall_average_accuracy = sum(average_accuracies) / len(average_accuracies)\n",
        "overall_precision = sum(precisions) / len(precisions)\n",
        "overall_recall = sum(recalls) / len(recalls)\n",
        "overall_f1_score = sum(f1_scores) / len(f1_scores)\n",
        "\n",
        "print(f\"Overall Average Accuracy: {overall_average_accuracy}\")\n",
        "print(f\"Overall Precision: {overall_precision}\")\n",
        "print(f\"Overall Recall: {overall_recall}\")\n",
        "print(f\"Overall F1-Score: {overall_f1_score}\")"
      ],
      "metadata": {
        "colab": {
          "base_uri": "https://localhost:8080/"
        },
        "id": "DPO8656f0a6I",
        "outputId": "8da29fdf-788c-41e0-df65-b862b1895a22"
      },
      "execution_count": null,
      "outputs": [
        {
          "output_type": "stream",
          "name": "stdout",
          "text": [
            "Train Accuracy for I/E: 0.9164265129682997\n",
            "Test Accuracy for I/E: 0.7567723342939481\n",
            "Average Accuracy for I/E: 0.8365994236311238\n",
            "Precision for I/E: 0.769185360094451\n",
            "Recall for I/E: 0.9767616191904048\n",
            "F1-Score for I/E: 0.8606340819022458\n",
            "\n",
            "Train Accuracy for N/S: 0.9118155619596542\n",
            "Test Accuracy for N/S: 0.861671469740634\n",
            "Average Accuracy for N/S: 0.8867435158501441\n",
            "Precision for N/S: 0.861671469740634\n",
            "Recall for N/S: 1.0\n",
            "F1-Score for N/S: 0.9256965944272446\n",
            "\n",
            "Train Accuracy for F/T: 0.9289625360230548\n",
            "Test Accuracy for F/T: 0.7118155619596542\n",
            "Average Accuracy for F/T: 0.8203890489913546\n",
            "Precision for F/T: 0.6887360275150473\n",
            "Recall for F/T: 0.853035143769968\n",
            "F1-Score for F/T: 0.7621313035204568\n",
            "\n",
            "Train Accuracy for J/P: 0.9182997118155619\n",
            "Test Accuracy for J/P: 0.5971181556195966\n",
            "Average Accuracy for J/P: 0.7577089337175793\n",
            "Precision for J/P: 0.48770491803278687\n",
            "Recall for J/P: 0.34643377001455605\n",
            "F1-Score for J/P: 0.4051063829787234\n",
            "\n",
            "Overall Average Accuracy: 0.8253602305475505\n",
            "Overall Precision: 0.7018244438457298\n",
            "Overall Recall: 0.7940576332437322\n",
            "Overall F1-Score: 0.7383920907071676\n"
          ]
        }
      ]
    },
    {
      "cell_type": "code",
      "source": [
        "# Define the SVM model\n",
        "svm_model = SVC(random_state=42)"
      ],
      "metadata": {
        "id": "4ARlAjQf3gOt"
      },
      "execution_count": null,
      "outputs": []
    },
    {
      "cell_type": "code",
      "source": [
        "# Train the model on class type\n",
        "svm_model.fit(train_combined_features, train_df['type'])"
      ],
      "metadata": {
        "colab": {
          "base_uri": "https://localhost:8080/",
          "height": 74
        },
        "id": "W7buYLvC3h7p",
        "outputId": "a1a486a4-5c32-4445-8926-8326ca2a341b"
      },
      "execution_count": null,
      "outputs": [
        {
          "output_type": "execute_result",
          "data": {
            "text/plain": [
              "SVC(random_state=42)"
            ],
            "text/html": [
              "<style>#sk-container-id-2 {color: black;}#sk-container-id-2 pre{padding: 0;}#sk-container-id-2 div.sk-toggleable {background-color: white;}#sk-container-id-2 label.sk-toggleable__label {cursor: pointer;display: block;width: 100%;margin-bottom: 0;padding: 0.3em;box-sizing: border-box;text-align: center;}#sk-container-id-2 label.sk-toggleable__label-arrow:before {content: \"▸\";float: left;margin-right: 0.25em;color: #696969;}#sk-container-id-2 label.sk-toggleable__label-arrow:hover:before {color: black;}#sk-container-id-2 div.sk-estimator:hover label.sk-toggleable__label-arrow:before {color: black;}#sk-container-id-2 div.sk-toggleable__content {max-height: 0;max-width: 0;overflow: hidden;text-align: left;background-color: #f0f8ff;}#sk-container-id-2 div.sk-toggleable__content pre {margin: 0.2em;color: black;border-radius: 0.25em;background-color: #f0f8ff;}#sk-container-id-2 input.sk-toggleable__control:checked~div.sk-toggleable__content {max-height: 200px;max-width: 100%;overflow: auto;}#sk-container-id-2 input.sk-toggleable__control:checked~label.sk-toggleable__label-arrow:before {content: \"▾\";}#sk-container-id-2 div.sk-estimator input.sk-toggleable__control:checked~label.sk-toggleable__label {background-color: #d4ebff;}#sk-container-id-2 div.sk-label input.sk-toggleable__control:checked~label.sk-toggleable__label {background-color: #d4ebff;}#sk-container-id-2 input.sk-hidden--visually {border: 0;clip: rect(1px 1px 1px 1px);clip: rect(1px, 1px, 1px, 1px);height: 1px;margin: -1px;overflow: hidden;padding: 0;position: absolute;width: 1px;}#sk-container-id-2 div.sk-estimator {font-family: monospace;background-color: #f0f8ff;border: 1px dotted black;border-radius: 0.25em;box-sizing: border-box;margin-bottom: 0.5em;}#sk-container-id-2 div.sk-estimator:hover {background-color: #d4ebff;}#sk-container-id-2 div.sk-parallel-item::after {content: \"\";width: 100%;border-bottom: 1px solid gray;flex-grow: 1;}#sk-container-id-2 div.sk-label:hover label.sk-toggleable__label {background-color: #d4ebff;}#sk-container-id-2 div.sk-serial::before {content: \"\";position: absolute;border-left: 1px solid gray;box-sizing: border-box;top: 0;bottom: 0;left: 50%;z-index: 0;}#sk-container-id-2 div.sk-serial {display: flex;flex-direction: column;align-items: center;background-color: white;padding-right: 0.2em;padding-left: 0.2em;position: relative;}#sk-container-id-2 div.sk-item {position: relative;z-index: 1;}#sk-container-id-2 div.sk-parallel {display: flex;align-items: stretch;justify-content: center;background-color: white;position: relative;}#sk-container-id-2 div.sk-item::before, #sk-container-id-2 div.sk-parallel-item::before {content: \"\";position: absolute;border-left: 1px solid gray;box-sizing: border-box;top: 0;bottom: 0;left: 50%;z-index: -1;}#sk-container-id-2 div.sk-parallel-item {display: flex;flex-direction: column;z-index: 1;position: relative;background-color: white;}#sk-container-id-2 div.sk-parallel-item:first-child::after {align-self: flex-end;width: 50%;}#sk-container-id-2 div.sk-parallel-item:last-child::after {align-self: flex-start;width: 50%;}#sk-container-id-2 div.sk-parallel-item:only-child::after {width: 0;}#sk-container-id-2 div.sk-dashed-wrapped {border: 1px dashed gray;margin: 0 0.4em 0.5em 0.4em;box-sizing: border-box;padding-bottom: 0.4em;background-color: white;}#sk-container-id-2 div.sk-label label {font-family: monospace;font-weight: bold;display: inline-block;line-height: 1.2em;}#sk-container-id-2 div.sk-label-container {text-align: center;}#sk-container-id-2 div.sk-container {/* jupyter's `normalize.less` sets `[hidden] { display: none; }` but bootstrap.min.css set `[hidden] { display: none !important; }` so we also need the `!important` here to be able to override the default hidden behavior on the sphinx rendered scikit-learn.org. See: https://github.com/scikit-learn/scikit-learn/issues/21755 */display: inline-block !important;position: relative;}#sk-container-id-2 div.sk-text-repr-fallback {display: none;}</style><div id=\"sk-container-id-2\" class=\"sk-top-container\"><div class=\"sk-text-repr-fallback\"><pre>SVC(random_state=42)</pre><b>In a Jupyter environment, please rerun this cell to show the HTML representation or trust the notebook. <br />On GitHub, the HTML representation is unable to render, please try loading this page with nbviewer.org.</b></div><div class=\"sk-container\" hidden><div class=\"sk-item\"><div class=\"sk-estimator sk-toggleable\"><input class=\"sk-toggleable__control sk-hidden--visually\" id=\"sk-estimator-id-2\" type=\"checkbox\" checked><label for=\"sk-estimator-id-2\" class=\"sk-toggleable__label sk-toggleable__label-arrow\">SVC</label><div class=\"sk-toggleable__content\"><pre>SVC(random_state=42)</pre></div></div></div></div></div>"
            ]
          },
          "metadata": {},
          "execution_count": 28
        }
      ]
    },
    {
      "cell_type": "code",
      "source": [
        "# Predict on the train set and map to dimensions\n",
        "train_predictions = svm_model.predict(train_combined_features)\n",
        "train_pred_dimensions = pd.DataFrame([get_mbti_dimensions(pred) for pred in train_predictions], columns=['I/E', 'N/S', 'F/T', 'J/P'])"
      ],
      "metadata": {
        "id": "m49HQtXE3jC1"
      },
      "execution_count": null,
      "outputs": []
    },
    {
      "cell_type": "code",
      "source": [
        "# Predict on the test set and map to dimensions\n",
        "test_predictions = svm_model.predict(test_combined_features)\n",
        "test_pred_dimensions = pd.DataFrame([get_mbti_dimensions(pred) for pred in test_predictions], columns=['I/E', 'N/S', 'F/T', 'J/P'])"
      ],
      "metadata": {
        "id": "BCaUxqR64Pki"
      },
      "execution_count": null,
      "outputs": []
    },
    {
      "cell_type": "code",
      "source": [
        "# Initialize lists to store metrics for each dimension\n",
        "average_accuracies = []\n",
        "precisions = []\n",
        "recalls = []\n",
        "f1_scores = []\n",
        "\n",
        "# Calculate metrics for each dimension and their averages\n",
        "for dimension in ['I/E', 'N/S', 'F/T', 'J/P']:\n",
        "    train_accuracy = accuracy_score(train_df[dimension], train_pred_dimensions[dimension])\n",
        "    test_accuracy = accuracy_score(test_df[dimension], test_pred_dimensions[dimension])\n",
        "\n",
        "    # Calculate the average accuracy for this dimension\n",
        "    average_accuracy = (train_accuracy + test_accuracy) / 2\n",
        "    average_accuracies.append(average_accuracy)\n",
        "\n",
        "    # Calculate precision, recall, and f1-score for the test set\n",
        "    precision = precision_score(test_df[dimension], test_pred_dimensions[dimension])\n",
        "    recall = recall_score(test_df[dimension], test_pred_dimensions[dimension])\n",
        "    f1 = f1_score(test_df[dimension], test_pred_dimensions[dimension])\n",
        "\n",
        "    precisions.append(precision)\n",
        "    recalls.append(recall)\n",
        "    f1_scores.append(f1)\n",
        "\n",
        "    print(f\"Train Accuracy for {dimension}: {train_accuracy}\")\n",
        "    print(f\"Test Accuracy for {dimension}: {test_accuracy}\")\n",
        "    print(f\"Average Accuracy for {dimension}: {average_accuracy}\")\n",
        "    print(f\"Precision for {dimension}: {precision}\")\n",
        "    print(f\"Recall for {dimension}: {recall}\")\n",
        "    print(f\"F1-Score for {dimension}: {f1}\\n\")\n",
        "\n",
        "# If you want to calculate an overall average accuracy, precision, recall, and f1-score across all dimensions\n",
        "overall_average_accuracy = sum(average_accuracies) / len(average_accuracies)\n",
        "overall_precision = sum(precisions) / len(precisions)\n",
        "overall_recall = sum(recalls) / len(recalls)\n",
        "overall_f1_score = sum(f1_scores) / len(f1_scores)\n",
        "\n",
        "print(f\"Overall Average Accuracy: {overall_average_accuracy}\")\n",
        "print(f\"Overall Precision: {overall_precision}\")\n",
        "print(f\"Overall Recall: {overall_recall}\")\n",
        "print(f\"Overall F1-Score: {overall_f1_score}\")"
      ],
      "metadata": {
        "colab": {
          "base_uri": "https://localhost:8080/"
        },
        "id": "jM94uo874Rui",
        "outputId": "efbfab69-0d2d-44dc-aaaf-ada3447ab0ea"
      },
      "execution_count": null,
      "outputs": [
        {
          "output_type": "stream",
          "name": "stdout",
          "text": [
            "Train Accuracy for I/E: 0.776657060518732\n",
            "Test Accuracy for I/E: 0.7659942363112392\n",
            "Average Accuracy for I/E: 0.7713256484149855\n",
            "Precision for I/E: 0.7703962703962703\n",
            "Recall for I/E: 0.9910044977511244\n",
            "F1-Score for I/E: 0.8668852459016394\n",
            "\n",
            "Train Accuracy for N/S: 0.8622478386167147\n",
            "Test Accuracy for N/S: 0.861671469740634\n",
            "Average Accuracy for N/S: 0.8619596541786744\n",
            "Precision for N/S: 0.861671469740634\n",
            "Recall for N/S: 1.0\n",
            "F1-Score for N/S: 0.9256965944272446\n",
            "\n",
            "Train Accuracy for F/T: 0.776657060518732\n",
            "Test Accuracy for F/T: 0.7446685878962536\n",
            "Average Accuracy for F/T: 0.7606628242074928\n",
            "Precision for F/T: 0.7271062271062271\n",
            "Recall for F/T: 0.845580404685836\n",
            "F1-Score for F/T: 0.7818808468734613\n",
            "\n",
            "Train Accuracy for J/P: 0.6779538904899135\n",
            "Test Accuracy for J/P: 0.6478386167146974\n",
            "Average Accuracy for J/P: 0.6628962536023055\n",
            "Precision for J/P: 0.5811965811965812\n",
            "Recall for J/P: 0.39592430858806404\n",
            "F1-Score for J/P: 0.47099567099567097\n",
            "\n",
            "Overall Average Accuracy: 0.7642110951008645\n",
            "Overall Precision: 0.7350926371099282\n",
            "Overall Recall: 0.8081273027562561\n",
            "Overall F1-Score: 0.761364589549504\n"
          ]
        }
      ]
    },
    {
      "cell_type": "code",
      "source": [
        "# Define the LightGBM model\n",
        "lgbm_model = LGBMClassifier(random_state=42)"
      ],
      "metadata": {
        "id": "P6GHY0OC44p9"
      },
      "execution_count": null,
      "outputs": []
    },
    {
      "cell_type": "code",
      "source": [
        "# Train the model on class type\n",
        "lgbm_model.fit(train_combined_features, train_df['type'])"
      ],
      "metadata": {
        "colab": {
          "base_uri": "https://localhost:8080/",
          "height": 1000
        },
        "id": "1XJ3256y473m",
        "outputId": "680c0199-f11e-4bbd-db0f-ee9f7068641f"
      },
      "execution_count": null,
      "outputs": [
        {
          "output_type": "stream",
          "name": "stdout",
          "text": [
            "[LightGBM] [Info] Auto-choosing col-wise multi-threading, the overhead of testing was 0.055901 seconds.\n",
            "You can set `force_col_wise=true` to remove the overhead.\n",
            "[LightGBM] [Info] Total Bins 203990\n",
            "[LightGBM] [Info] Number of data points in the train set: 6940, number of used features: 800\n",
            "[LightGBM] [Info] Start training from score -3.821177\n",
            "[LightGBM] [Info] Start training from score -2.553488\n",
            "[LightGBM] [Info] Start training from score -3.624701\n",
            "[LightGBM] [Info] Start training from score -2.538782\n",
            "[LightGBM] [Info] Start training from score -5.348549\n",
            "[LightGBM] [Info] Start training from score -5.207471\n",
            "[LightGBM] [Info] Start training from score -5.411070\n",
            "[LightGBM] [Info] Start training from score -4.582377\n",
            "[LightGBM] [Info] Start training from score -1.775183\n",
            "[LightGBM] [Info] Start training from score -1.554764\n",
            "[LightGBM] [Info] Start training from score -2.073121\n",
            "[LightGBM] [Info] Start training from score -1.895201\n",
            "[LightGBM] [Info] Start training from score -3.954708\n",
            "[LightGBM] [Info] Start training from score -3.465160\n",
            "[LightGBM] [Info] Start training from score -3.745191\n",
            "[LightGBM] [Info] Start training from score -3.246635\n",
            "[LightGBM] [Warning] No further splits with positive gain, best gain: -inf\n",
            "[LightGBM] [Warning] No further splits with positive gain, best gain: -inf\n",
            "[LightGBM] [Warning] No further splits with positive gain, best gain: -inf\n",
            "[LightGBM] [Warning] No further splits with positive gain, best gain: -inf\n",
            "[LightGBM] [Warning] No further splits with positive gain, best gain: -inf\n",
            "[LightGBM] [Warning] No further splits with positive gain, best gain: -inf\n",
            "[LightGBM] [Warning] No further splits with positive gain, best gain: -inf\n",
            "[LightGBM] [Warning] No further splits with positive gain, best gain: -inf\n",
            "[LightGBM] [Warning] No further splits with positive gain, best gain: -inf\n",
            "[LightGBM] [Warning] No further splits with positive gain, best gain: -inf\n",
            "[LightGBM] [Warning] No further splits with positive gain, best gain: -inf\n",
            "[LightGBM] [Warning] No further splits with positive gain, best gain: -inf\n",
            "[LightGBM] [Warning] No further splits with positive gain, best gain: -inf\n",
            "[LightGBM] [Warning] No further splits with positive gain, best gain: -inf\n",
            "[LightGBM] [Warning] No further splits with positive gain, best gain: -inf\n",
            "[LightGBM] [Warning] No further splits with positive gain, best gain: -inf\n",
            "[LightGBM] [Warning] No further splits with positive gain, best gain: -inf\n",
            "[LightGBM] [Warning] No further splits with positive gain, best gain: -inf\n",
            "[LightGBM] [Warning] No further splits with positive gain, best gain: -inf\n",
            "[LightGBM] [Warning] No further splits with positive gain, best gain: -inf\n",
            "[LightGBM] [Warning] No further splits with positive gain, best gain: -inf\n",
            "[LightGBM] [Warning] No further splits with positive gain, best gain: -inf\n",
            "[LightGBM] [Warning] No further splits with positive gain, best gain: -inf\n",
            "[LightGBM] [Warning] No further splits with positive gain, best gain: -inf\n",
            "[LightGBM] [Warning] No further splits with positive gain, best gain: -inf\n",
            "[LightGBM] [Warning] No further splits with positive gain, best gain: -inf\n",
            "[LightGBM] [Warning] No further splits with positive gain, best gain: -inf\n",
            "[LightGBM] [Warning] No further splits with positive gain, best gain: -inf\n",
            "[LightGBM] [Warning] No further splits with positive gain, best gain: -inf\n",
            "[LightGBM] [Warning] No further splits with positive gain, best gain: -inf\n",
            "[LightGBM] [Warning] No further splits with positive gain, best gain: -inf\n",
            "[LightGBM] [Warning] No further splits with positive gain, best gain: -inf\n",
            "[LightGBM] [Warning] No further splits with positive gain, best gain: -inf\n",
            "[LightGBM] [Warning] No further splits with positive gain, best gain: -inf\n",
            "[LightGBM] [Warning] No further splits with positive gain, best gain: -inf\n",
            "[LightGBM] [Warning] No further splits with positive gain, best gain: -inf\n",
            "[LightGBM] [Warning] No further splits with positive gain, best gain: -inf\n",
            "[LightGBM] [Warning] No further splits with positive gain, best gain: -inf\n",
            "[LightGBM] [Warning] No further splits with positive gain, best gain: -inf\n",
            "[LightGBM] [Warning] No further splits with positive gain, best gain: -inf\n",
            "[LightGBM] [Warning] No further splits with positive gain, best gain: -inf\n",
            "[LightGBM] [Warning] No further splits with positive gain, best gain: -inf\n",
            "[LightGBM] [Warning] No further splits with positive gain, best gain: -inf\n",
            "[LightGBM] [Warning] No further splits with positive gain, best gain: -inf\n",
            "[LightGBM] [Warning] No further splits with positive gain, best gain: -inf\n",
            "[LightGBM] [Warning] No further splits with positive gain, best gain: -inf\n",
            "[LightGBM] [Warning] No further splits with positive gain, best gain: -inf\n",
            "[LightGBM] [Warning] No further splits with positive gain, best gain: -inf\n",
            "[LightGBM] [Warning] No further splits with positive gain, best gain: -inf\n",
            "[LightGBM] [Warning] No further splits with positive gain, best gain: -inf\n",
            "[LightGBM] [Warning] No further splits with positive gain, best gain: -inf\n",
            "[LightGBM] [Warning] No further splits with positive gain, best gain: -inf\n",
            "[LightGBM] [Warning] No further splits with positive gain, best gain: -inf\n",
            "[LightGBM] [Warning] No further splits with positive gain, best gain: -inf\n",
            "[LightGBM] [Warning] No further splits with positive gain, best gain: -inf\n",
            "[LightGBM] [Warning] No further splits with positive gain, best gain: -inf\n",
            "[LightGBM] [Warning] No further splits with positive gain, best gain: -inf\n",
            "[LightGBM] [Warning] No further splits with positive gain, best gain: -inf\n",
            "[LightGBM] [Warning] No further splits with positive gain, best gain: -inf\n",
            "[LightGBM] [Warning] No further splits with positive gain, best gain: -inf\n",
            "[LightGBM] [Warning] No further splits with positive gain, best gain: -inf\n",
            "[LightGBM] [Warning] No further splits with positive gain, best gain: -inf\n",
            "[LightGBM] [Warning] No further splits with positive gain, best gain: -inf\n",
            "[LightGBM] [Warning] No further splits with positive gain, best gain: -inf\n",
            "[LightGBM] [Warning] No further splits with positive gain, best gain: -inf\n",
            "[LightGBM] [Warning] No further splits with positive gain, best gain: -inf\n",
            "[LightGBM] [Warning] No further splits with positive gain, best gain: -inf\n",
            "[LightGBM] [Warning] No further splits with positive gain, best gain: -inf\n",
            "[LightGBM] [Warning] No further splits with positive gain, best gain: -inf\n",
            "[LightGBM] [Warning] No further splits with positive gain, best gain: -inf\n",
            "[LightGBM] [Warning] No further splits with positive gain, best gain: -inf\n",
            "[LightGBM] [Warning] No further splits with positive gain, best gain: -inf\n",
            "[LightGBM] [Warning] No further splits with positive gain, best gain: -inf\n",
            "[LightGBM] [Warning] No further splits with positive gain, best gain: -inf\n"
          ]
        },
        {
          "output_type": "execute_result",
          "data": {
            "text/plain": [
              "LGBMClassifier(random_state=42)"
            ],
            "text/html": [
              "<style>#sk-container-id-3 {color: black;}#sk-container-id-3 pre{padding: 0;}#sk-container-id-3 div.sk-toggleable {background-color: white;}#sk-container-id-3 label.sk-toggleable__label {cursor: pointer;display: block;width: 100%;margin-bottom: 0;padding: 0.3em;box-sizing: border-box;text-align: center;}#sk-container-id-3 label.sk-toggleable__label-arrow:before {content: \"▸\";float: left;margin-right: 0.25em;color: #696969;}#sk-container-id-3 label.sk-toggleable__label-arrow:hover:before {color: black;}#sk-container-id-3 div.sk-estimator:hover label.sk-toggleable__label-arrow:before {color: black;}#sk-container-id-3 div.sk-toggleable__content {max-height: 0;max-width: 0;overflow: hidden;text-align: left;background-color: #f0f8ff;}#sk-container-id-3 div.sk-toggleable__content pre {margin: 0.2em;color: black;border-radius: 0.25em;background-color: #f0f8ff;}#sk-container-id-3 input.sk-toggleable__control:checked~div.sk-toggleable__content {max-height: 200px;max-width: 100%;overflow: auto;}#sk-container-id-3 input.sk-toggleable__control:checked~label.sk-toggleable__label-arrow:before {content: \"▾\";}#sk-container-id-3 div.sk-estimator input.sk-toggleable__control:checked~label.sk-toggleable__label {background-color: #d4ebff;}#sk-container-id-3 div.sk-label input.sk-toggleable__control:checked~label.sk-toggleable__label {background-color: #d4ebff;}#sk-container-id-3 input.sk-hidden--visually {border: 0;clip: rect(1px 1px 1px 1px);clip: rect(1px, 1px, 1px, 1px);height: 1px;margin: -1px;overflow: hidden;padding: 0;position: absolute;width: 1px;}#sk-container-id-3 div.sk-estimator {font-family: monospace;background-color: #f0f8ff;border: 1px dotted black;border-radius: 0.25em;box-sizing: border-box;margin-bottom: 0.5em;}#sk-container-id-3 div.sk-estimator:hover {background-color: #d4ebff;}#sk-container-id-3 div.sk-parallel-item::after {content: \"\";width: 100%;border-bottom: 1px solid gray;flex-grow: 1;}#sk-container-id-3 div.sk-label:hover label.sk-toggleable__label {background-color: #d4ebff;}#sk-container-id-3 div.sk-serial::before {content: \"\";position: absolute;border-left: 1px solid gray;box-sizing: border-box;top: 0;bottom: 0;left: 50%;z-index: 0;}#sk-container-id-3 div.sk-serial {display: flex;flex-direction: column;align-items: center;background-color: white;padding-right: 0.2em;padding-left: 0.2em;position: relative;}#sk-container-id-3 div.sk-item {position: relative;z-index: 1;}#sk-container-id-3 div.sk-parallel {display: flex;align-items: stretch;justify-content: center;background-color: white;position: relative;}#sk-container-id-3 div.sk-item::before, #sk-container-id-3 div.sk-parallel-item::before {content: \"\";position: absolute;border-left: 1px solid gray;box-sizing: border-box;top: 0;bottom: 0;left: 50%;z-index: -1;}#sk-container-id-3 div.sk-parallel-item {display: flex;flex-direction: column;z-index: 1;position: relative;background-color: white;}#sk-container-id-3 div.sk-parallel-item:first-child::after {align-self: flex-end;width: 50%;}#sk-container-id-3 div.sk-parallel-item:last-child::after {align-self: flex-start;width: 50%;}#sk-container-id-3 div.sk-parallel-item:only-child::after {width: 0;}#sk-container-id-3 div.sk-dashed-wrapped {border: 1px dashed gray;margin: 0 0.4em 0.5em 0.4em;box-sizing: border-box;padding-bottom: 0.4em;background-color: white;}#sk-container-id-3 div.sk-label label {font-family: monospace;font-weight: bold;display: inline-block;line-height: 1.2em;}#sk-container-id-3 div.sk-label-container {text-align: center;}#sk-container-id-3 div.sk-container {/* jupyter's `normalize.less` sets `[hidden] { display: none; }` but bootstrap.min.css set `[hidden] { display: none !important; }` so we also need the `!important` here to be able to override the default hidden behavior on the sphinx rendered scikit-learn.org. See: https://github.com/scikit-learn/scikit-learn/issues/21755 */display: inline-block !important;position: relative;}#sk-container-id-3 div.sk-text-repr-fallback {display: none;}</style><div id=\"sk-container-id-3\" class=\"sk-top-container\"><div class=\"sk-text-repr-fallback\"><pre>LGBMClassifier(random_state=42)</pre><b>In a Jupyter environment, please rerun this cell to show the HTML representation or trust the notebook. <br />On GitHub, the HTML representation is unable to render, please try loading this page with nbviewer.org.</b></div><div class=\"sk-container\" hidden><div class=\"sk-item\"><div class=\"sk-estimator sk-toggleable\"><input class=\"sk-toggleable__control sk-hidden--visually\" id=\"sk-estimator-id-3\" type=\"checkbox\" checked><label for=\"sk-estimator-id-3\" class=\"sk-toggleable__label sk-toggleable__label-arrow\">LGBMClassifier</label><div class=\"sk-toggleable__content\"><pre>LGBMClassifier(random_state=42)</pre></div></div></div></div></div>"
            ]
          },
          "metadata": {},
          "execution_count": 33
        }
      ]
    },
    {
      "cell_type": "code",
      "source": [
        "# Predict on the train set and map to dimensions\n",
        "train_predictions = lgbm_model.predict(train_combined_features)\n",
        "train_pred_dimensions = pd.DataFrame([get_mbti_dimensions(pred) for pred in train_predictions], columns=['I/E', 'N/S', 'F/T', 'J/P'])"
      ],
      "metadata": {
        "id": "LWOHGQFQ6XhB"
      },
      "execution_count": null,
      "outputs": []
    },
    {
      "cell_type": "code",
      "source": [
        "# Predict on the test set and map to dimensions\n",
        "test_predictions = lgbm_model.predict(test_combined_features)\n",
        "test_pred_dimensions = pd.DataFrame([get_mbti_dimensions(pred) for pred in test_predictions], columns=['I/E', 'N/S', 'F/T', 'J/P'])"
      ],
      "metadata": {
        "id": "uCZt84Au6X8C"
      },
      "execution_count": null,
      "outputs": []
    },
    {
      "cell_type": "code",
      "source": [
        "# Initialize lists to store metrics for each dimension\n",
        "average_accuracies = []\n",
        "precisions = []\n",
        "recalls = []\n",
        "f1_scores = []\n",
        "\n",
        "# Calculate metrics for each dimension and their averages\n",
        "for dimension in ['I/E', 'N/S', 'F/T', 'J/P']:\n",
        "    train_accuracy = accuracy_score(train_df[dimension], train_pred_dimensions[dimension])\n",
        "    test_accuracy = accuracy_score(test_df[dimension], test_pred_dimensions[dimension])\n",
        "\n",
        "    # Calculate the average accuracy for this dimension\n",
        "    average_accuracy = (train_accuracy + test_accuracy) / 2\n",
        "    average_accuracies.append(average_accuracy)\n",
        "\n",
        "    # Calculate precision, recall, and f1-score for the test set\n",
        "    precision = precision_score(test_df[dimension], test_pred_dimensions[dimension])\n",
        "    recall = recall_score(test_df[dimension], test_pred_dimensions[dimension])\n",
        "    f1 = f1_score(test_df[dimension], test_pred_dimensions[dimension])\n",
        "\n",
        "    precisions.append(precision)\n",
        "    recalls.append(recall)\n",
        "    f1_scores.append(f1)\n",
        "\n",
        "    print(f\"Train Accuracy for {dimension}: {train_accuracy}\")\n",
        "    print(f\"Test Accuracy for {dimension}: {test_accuracy}\")\n",
        "    print(f\"Average Accuracy for {dimension}: {average_accuracy}\")\n",
        "    print(f\"Precision for {dimension}: {precision}\")\n",
        "    print(f\"Recall for {dimension}: {recall}\")\n",
        "    print(f\"F1-Score for {dimension}: {f1}\\n\")\n",
        "\n",
        "# If you want to calculate an overall average accuracy, precision, recall, and f1-score across all dimensions\n",
        "overall_average_accuracy = sum(average_accuracies) / len(average_accuracies)\n",
        "overall_precision = sum(precisions) / len(precisions)\n",
        "overall_recall = sum(recalls) / len(recalls)\n",
        "overall_f1_score = sum(f1_scores) / len(f1_scores)\n",
        "\n",
        "print(f\"Overall Average Accuracy: {overall_average_accuracy}\")\n",
        "print(f\"Overall Precision: {overall_precision}\")\n",
        "print(f\"Overall Recall: {overall_recall}\")\n",
        "print(f\"Overall F1-Score: {overall_f1_score}\")"
      ],
      "metadata": {
        "colab": {
          "base_uri": "https://localhost:8080/"
        },
        "id": "uFpaIcKG6ZEt",
        "outputId": "40f34853-4999-4ee0-e336-1e4fac17f2cf"
      },
      "execution_count": null,
      "outputs": [
        {
          "output_type": "stream",
          "name": "stdout",
          "text": [
            "Train Accuracy for I/E: 1.0\n",
            "Test Accuracy for I/E: 0.7729106628242075\n",
            "Average Accuracy for I/E: 0.8864553314121038\n",
            "Precision for I/E: 0.7919254658385093\n",
            "Recall for I/E: 0.9557721139430285\n",
            "F1-Score for I/E: 0.8661684782608695\n",
            "\n",
            "Train Accuracy for N/S: 1.0\n",
            "Test Accuracy for N/S: 0.8645533141210374\n",
            "Average Accuracy for N/S: 0.9322766570605188\n",
            "Precision for N/S: 0.8658536585365854\n",
            "Recall for N/S: 0.9973244147157191\n",
            "F1-Score for N/S: 0.9269505750699409\n",
            "\n",
            "Train Accuracy for F/T: 1.0\n",
            "Test Accuracy for F/T: 0.7556195965417868\n",
            "Average Accuracy for F/T: 0.8778097982708934\n",
            "Precision for F/T: 0.7426955702167767\n",
            "Recall for F/T: 0.8391906283280085\n",
            "F1-Score for F/T: 0.788\n",
            "\n",
            "Train Accuracy for J/P: 1.0\n",
            "Test Accuracy for J/P: 0.6426512968299711\n",
            "Average Accuracy for J/P: 0.8213256484149856\n",
            "Precision for J/P: 0.5557404326123128\n",
            "Recall for J/P: 0.4861717612809316\n",
            "F1-Score for J/P: 0.5186335403726708\n",
            "\n",
            "Overall Average Accuracy: 0.8794668587896254\n",
            "Overall Precision: 0.7390537818010461\n",
            "Overall Recall: 0.8196147295669219\n",
            "Overall F1-Score: 0.7749381484258703\n"
          ]
        }
      ]
    }
  ]
}